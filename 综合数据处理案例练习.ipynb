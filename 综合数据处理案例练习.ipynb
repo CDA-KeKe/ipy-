{
 "cells": [
  {
   "cell_type": "markdown",
   "metadata": {},
   "source": [
    "## 导入相关库"
   ]
  },
  {
   "cell_type": "code",
   "execution_count": 1,
   "metadata": {},
   "outputs": [],
   "source": [
    "import numpy as np\n",
    "import pandas as pd\n",
    "import matplotlib.pyplot as plt"
   ]
  },
  {
   "cell_type": "code",
   "execution_count": 2,
   "metadata": {},
   "outputs": [],
   "source": [
    "plt.rcParams['font.sans-serif'] = 'SimHei' ## 设置中文字体\n",
    "plt.rcParams['axes.unicode_minus'] = False #设定正常显示字符"
   ]
  },
  {
   "cell_type": "markdown",
   "metadata": {},
   "source": [
    "## 导入csv数据Building_Permits.csv,保存为数据框data1"
   ]
  },
  {
   "cell_type": "code",
   "execution_count": 3,
   "metadata": {},
   "outputs": [
    {
     "name": "stderr",
     "output_type": "stream",
     "text": [
      "D:\\ProgramData\\Anaconda3\\lib\\site-packages\\IPython\\core\\interactiveshell.py:3049: DtypeWarning: Columns (22,32) have mixed types. Specify dtype option on import or set low_memory=False.\n",
      "  interactivity=interactivity, compiler=compiler, result=result)\n"
     ]
    }
   ],
   "source": [
    "data1=pd.read_csv('Building_Permits.csv')"
   ]
  },
  {
   "cell_type": "markdown",
   "metadata": {},
   "source": [
    "## 查看数据框的前几行"
   ]
  },
  {
   "cell_type": "code",
   "execution_count": 4,
   "metadata": {},
   "outputs": [
    {
     "data": {
      "text/html": [
       "<div>\n",
       "<style scoped>\n",
       "    .dataframe tbody tr th:only-of-type {\n",
       "        vertical-align: middle;\n",
       "    }\n",
       "\n",
       "    .dataframe tbody tr th {\n",
       "        vertical-align: top;\n",
       "    }\n",
       "\n",
       "    .dataframe thead th {\n",
       "        text-align: right;\n",
       "    }\n",
       "</style>\n",
       "<table border=\"1\" class=\"dataframe\">\n",
       "  <thead>\n",
       "    <tr style=\"text-align: right;\">\n",
       "      <th></th>\n",
       "      <th>Permit Number</th>\n",
       "      <th>Permit Type</th>\n",
       "      <th>Permit Type Definition</th>\n",
       "      <th>Permit Creation Date</th>\n",
       "      <th>Block</th>\n",
       "      <th>Lot</th>\n",
       "      <th>Street Number</th>\n",
       "      <th>Street Number Suffix</th>\n",
       "      <th>Street Name</th>\n",
       "      <th>Street Suffix</th>\n",
       "      <th>...</th>\n",
       "      <th>Existing Construction Type</th>\n",
       "      <th>Existing Construction Type Description</th>\n",
       "      <th>Proposed Construction Type</th>\n",
       "      <th>Proposed Construction Type Description</th>\n",
       "      <th>Site Permit</th>\n",
       "      <th>Supervisor District</th>\n",
       "      <th>Neighborhoods - Analysis Boundaries</th>\n",
       "      <th>Zipcode</th>\n",
       "      <th>Location</th>\n",
       "      <th>Record ID</th>\n",
       "    </tr>\n",
       "  </thead>\n",
       "  <tbody>\n",
       "    <tr>\n",
       "      <th>0</th>\n",
       "      <td>201505065519</td>\n",
       "      <td>4</td>\n",
       "      <td>sign - erect</td>\n",
       "      <td>05/06/2015</td>\n",
       "      <td>0326</td>\n",
       "      <td>023</td>\n",
       "      <td>140</td>\n",
       "      <td>NaN</td>\n",
       "      <td>Ellis</td>\n",
       "      <td>St</td>\n",
       "      <td>...</td>\n",
       "      <td>3.0</td>\n",
       "      <td>constr type 3</td>\n",
       "      <td>NaN</td>\n",
       "      <td>NaN</td>\n",
       "      <td>NaN</td>\n",
       "      <td>3.0</td>\n",
       "      <td>Tenderloin</td>\n",
       "      <td>94102.0</td>\n",
       "      <td>(37.785719256680785, -122.40852313194863)</td>\n",
       "      <td>1380611233945</td>\n",
       "    </tr>\n",
       "    <tr>\n",
       "      <th>1</th>\n",
       "      <td>201604195146</td>\n",
       "      <td>4</td>\n",
       "      <td>sign - erect</td>\n",
       "      <td>04/19/2016</td>\n",
       "      <td>0306</td>\n",
       "      <td>007</td>\n",
       "      <td>440</td>\n",
       "      <td>NaN</td>\n",
       "      <td>Geary</td>\n",
       "      <td>St</td>\n",
       "      <td>...</td>\n",
       "      <td>3.0</td>\n",
       "      <td>constr type 3</td>\n",
       "      <td>NaN</td>\n",
       "      <td>NaN</td>\n",
       "      <td>NaN</td>\n",
       "      <td>3.0</td>\n",
       "      <td>Tenderloin</td>\n",
       "      <td>94102.0</td>\n",
       "      <td>(37.78733980600732, -122.41063199757738)</td>\n",
       "      <td>1420164406718</td>\n",
       "    </tr>\n",
       "    <tr>\n",
       "      <th>2</th>\n",
       "      <td>201605278609</td>\n",
       "      <td>3</td>\n",
       "      <td>additions alterations or repairs</td>\n",
       "      <td>05/27/2016</td>\n",
       "      <td>0595</td>\n",
       "      <td>203</td>\n",
       "      <td>1647</td>\n",
       "      <td>NaN</td>\n",
       "      <td>Pacific</td>\n",
       "      <td>Av</td>\n",
       "      <td>...</td>\n",
       "      <td>1.0</td>\n",
       "      <td>constr type 1</td>\n",
       "      <td>1.0</td>\n",
       "      <td>constr type 1</td>\n",
       "      <td>NaN</td>\n",
       "      <td>3.0</td>\n",
       "      <td>Russian Hill</td>\n",
       "      <td>94109.0</td>\n",
       "      <td>(37.7946573324287, -122.42232562979227)</td>\n",
       "      <td>1424856504716</td>\n",
       "    </tr>\n",
       "    <tr>\n",
       "      <th>3</th>\n",
       "      <td>201611072166</td>\n",
       "      <td>8</td>\n",
       "      <td>otc alterations permit</td>\n",
       "      <td>11/07/2016</td>\n",
       "      <td>0156</td>\n",
       "      <td>011</td>\n",
       "      <td>1230</td>\n",
       "      <td>NaN</td>\n",
       "      <td>Pacific</td>\n",
       "      <td>Av</td>\n",
       "      <td>...</td>\n",
       "      <td>5.0</td>\n",
       "      <td>wood frame (5)</td>\n",
       "      <td>5.0</td>\n",
       "      <td>wood frame (5)</td>\n",
       "      <td>NaN</td>\n",
       "      <td>3.0</td>\n",
       "      <td>Nob Hill</td>\n",
       "      <td>94109.0</td>\n",
       "      <td>(37.79595867909168, -122.41557405519474)</td>\n",
       "      <td>1443574295566</td>\n",
       "    </tr>\n",
       "    <tr>\n",
       "      <th>4</th>\n",
       "      <td>201611283529</td>\n",
       "      <td>6</td>\n",
       "      <td>demolitions</td>\n",
       "      <td>11/28/2016</td>\n",
       "      <td>0342</td>\n",
       "      <td>001</td>\n",
       "      <td>950</td>\n",
       "      <td>NaN</td>\n",
       "      <td>Market</td>\n",
       "      <td>St</td>\n",
       "      <td>...</td>\n",
       "      <td>3.0</td>\n",
       "      <td>constr type 3</td>\n",
       "      <td>NaN</td>\n",
       "      <td>NaN</td>\n",
       "      <td>NaN</td>\n",
       "      <td>6.0</td>\n",
       "      <td>Tenderloin</td>\n",
       "      <td>94102.0</td>\n",
       "      <td>(37.78315261897309, -122.40950883997789)</td>\n",
       "      <td>144548169992</td>\n",
       "    </tr>\n",
       "  </tbody>\n",
       "</table>\n",
       "<p>5 rows × 43 columns</p>\n",
       "</div>"
      ],
      "text/plain": [
       "  Permit Number  Permit Type            Permit Type Definition  \\\n",
       "0  201505065519            4                      sign - erect   \n",
       "1  201604195146            4                      sign - erect   \n",
       "2  201605278609            3  additions alterations or repairs   \n",
       "3  201611072166            8            otc alterations permit   \n",
       "4  201611283529            6                       demolitions   \n",
       "\n",
       "  Permit Creation Date Block  Lot  Street Number Street Number Suffix  \\\n",
       "0           05/06/2015  0326  023            140                  NaN   \n",
       "1           04/19/2016  0306  007            440                  NaN   \n",
       "2           05/27/2016  0595  203           1647                  NaN   \n",
       "3           11/07/2016  0156  011           1230                  NaN   \n",
       "4           11/28/2016  0342  001            950                  NaN   \n",
       "\n",
       "  Street Name Street Suffix  ...  Existing Construction Type  \\\n",
       "0       Ellis            St  ...                         3.0   \n",
       "1       Geary            St  ...                         3.0   \n",
       "2     Pacific            Av  ...                         1.0   \n",
       "3     Pacific            Av  ...                         5.0   \n",
       "4      Market            St  ...                         3.0   \n",
       "\n",
       "  Existing Construction Type Description Proposed Construction Type  \\\n",
       "0                          constr type 3                        NaN   \n",
       "1                          constr type 3                        NaN   \n",
       "2                          constr type 1                        1.0   \n",
       "3                         wood frame (5)                        5.0   \n",
       "4                          constr type 3                        NaN   \n",
       "\n",
       "  Proposed Construction Type Description Site Permit Supervisor District  \\\n",
       "0                                    NaN         NaN                 3.0   \n",
       "1                                    NaN         NaN                 3.0   \n",
       "2                          constr type 1         NaN                 3.0   \n",
       "3                         wood frame (5)         NaN                 3.0   \n",
       "4                                    NaN         NaN                 6.0   \n",
       "\n",
       "  Neighborhoods - Analysis Boundaries  Zipcode  \\\n",
       "0                          Tenderloin  94102.0   \n",
       "1                          Tenderloin  94102.0   \n",
       "2                        Russian Hill  94109.0   \n",
       "3                            Nob Hill  94109.0   \n",
       "4                          Tenderloin  94102.0   \n",
       "\n",
       "                                    Location      Record ID  \n",
       "0  (37.785719256680785, -122.40852313194863)  1380611233945  \n",
       "1   (37.78733980600732, -122.41063199757738)  1420164406718  \n",
       "2    (37.7946573324287, -122.42232562979227)  1424856504716  \n",
       "3   (37.79595867909168, -122.41557405519474)  1443574295566  \n",
       "4   (37.78315261897309, -122.40950883997789)   144548169992  \n",
       "\n",
       "[5 rows x 43 columns]"
      ]
     },
     "execution_count": 4,
     "metadata": {},
     "output_type": "execute_result"
    }
   ],
   "source": [
    "data1.head()"
   ]
  },
  {
   "cell_type": "markdown",
   "metadata": {},
   "source": [
    "## 数据的基本信息查看，包括多少列多少行"
   ]
  },
  {
   "cell_type": "code",
   "execution_count": 5,
   "metadata": {},
   "outputs": [
    {
     "data": {
      "text/plain": [
       "(198900, 43)"
      ]
     },
     "execution_count": 5,
     "metadata": {},
     "output_type": "execute_result"
    }
   ],
   "source": [
    "data1.shape"
   ]
  },
  {
   "cell_type": "markdown",
   "metadata": {},
   "source": [
    "## 数据的缺失值情况统计（统计每一类数据缺失值比例）"
   ]
  },
  {
   "cell_type": "code",
   "execution_count": 6,
   "metadata": {
    "scrolled": false
   },
   "outputs": [
    {
     "data": {
      "text/plain": [
       "Permit Number                             0.000000\n",
       "Permit Type                               0.000000\n",
       "Permit Type Definition                    0.000000\n",
       "Permit Creation Date                      0.000000\n",
       "Block                                     0.000000\n",
       "Lot                                       0.000000\n",
       "Street Number                             0.000000\n",
       "Street Number Suffix                      0.988859\n",
       "Street Name                               0.000000\n",
       "Street Suffix                             0.013917\n",
       "Unit                                      0.851790\n",
       "Unit Suffix                               0.990141\n",
       "Description                               0.001458\n",
       "Current Status                            0.000000\n",
       "Current Status Date                       0.000000\n",
       "Filed Date                                0.000000\n",
       "Issued Date                               0.075113\n",
       "Completed Date                            0.511357\n",
       "First Construction Document Date          0.075143\n",
       "Structural Notification                   0.965199\n",
       "Number of Existing Stories                0.215103\n",
       "Number of Proposed Stories                0.215525\n",
       "Voluntary Soft-Story Retrofit             0.999824\n",
       "Fire Only Permit                          0.905344\n",
       "Permit Expiration Date                    0.260835\n",
       "Estimated Cost                            0.191383\n",
       "Revised Cost                              0.030498\n",
       "Existing Use                              0.206707\n",
       "Existing Units                            0.259115\n",
       "Proposed Use                              0.213369\n",
       "Proposed Units                            0.255963\n",
       "Plansets                                  0.187577\n",
       "TIDF Compliance                           0.999990\n",
       "Existing Construction Type                0.218029\n",
       "Existing Construction Type Description    0.218029\n",
       "Proposed Construction Type                0.217004\n",
       "Proposed Construction Type Description    0.217004\n",
       "Site Permit                               0.973057\n",
       "Supervisor District                       0.008632\n",
       "Neighborhoods - Analysis Boundaries       0.008673\n",
       "Zipcode                                   0.008627\n",
       "Location                                  0.008547\n",
       "Record ID                                 0.000000\n",
       "dtype: float64"
      ]
     },
     "execution_count": 6,
     "metadata": {},
     "output_type": "execute_result"
    }
   ],
   "source": [
    "data1.isnull().mean()"
   ]
  },
  {
   "cell_type": "markdown",
   "metadata": {},
   "source": [
    "## 根据变量Permit Number对数据框进行排序，并且直接作用于数据框，并且查看数据的前几行"
   ]
  },
  {
   "cell_type": "code",
   "execution_count": 7,
   "metadata": {},
   "outputs": [
    {
     "data": {
      "text/html": [
       "<div>\n",
       "<style scoped>\n",
       "    .dataframe tbody tr th:only-of-type {\n",
       "        vertical-align: middle;\n",
       "    }\n",
       "\n",
       "    .dataframe tbody tr th {\n",
       "        vertical-align: top;\n",
       "    }\n",
       "\n",
       "    .dataframe thead th {\n",
       "        text-align: right;\n",
       "    }\n",
       "</style>\n",
       "<table border=\"1\" class=\"dataframe\">\n",
       "  <thead>\n",
       "    <tr style=\"text-align: right;\">\n",
       "      <th></th>\n",
       "      <th>Permit Number</th>\n",
       "      <th>Permit Type</th>\n",
       "      <th>Permit Type Definition</th>\n",
       "      <th>Permit Creation Date</th>\n",
       "      <th>Block</th>\n",
       "      <th>Lot</th>\n",
       "      <th>Street Number</th>\n",
       "      <th>Street Number Suffix</th>\n",
       "      <th>Street Name</th>\n",
       "      <th>Street Suffix</th>\n",
       "      <th>...</th>\n",
       "      <th>Existing Construction Type</th>\n",
       "      <th>Existing Construction Type Description</th>\n",
       "      <th>Proposed Construction Type</th>\n",
       "      <th>Proposed Construction Type Description</th>\n",
       "      <th>Site Permit</th>\n",
       "      <th>Supervisor District</th>\n",
       "      <th>Neighborhoods - Analysis Boundaries</th>\n",
       "      <th>Zipcode</th>\n",
       "      <th>Location</th>\n",
       "      <th>Record ID</th>\n",
       "    </tr>\n",
       "  </thead>\n",
       "  <tbody>\n",
       "    <tr>\n",
       "      <th>484</th>\n",
       "      <td>201301027037</td>\n",
       "      <td>8</td>\n",
       "      <td>otc alterations permit</td>\n",
       "      <td>01/02/2013</td>\n",
       "      <td>0697</td>\n",
       "      <td>039</td>\n",
       "      <td>1400</td>\n",
       "      <td>NaN</td>\n",
       "      <td>Geary</td>\n",
       "      <td>Bl</td>\n",
       "      <td>...</td>\n",
       "      <td>1.0</td>\n",
       "      <td>constr type 1</td>\n",
       "      <td>1.0</td>\n",
       "      <td>constr type 1</td>\n",
       "      <td>NaN</td>\n",
       "      <td>5.0</td>\n",
       "      <td>Japantown</td>\n",
       "      <td>94109.0</td>\n",
       "      <td>(37.785542417311106, -122.42713399675488)</td>\n",
       "      <td>129210879901</td>\n",
       "    </tr>\n",
       "    <tr>\n",
       "      <th>486</th>\n",
       "      <td>201301027038</td>\n",
       "      <td>8</td>\n",
       "      <td>otc alterations permit</td>\n",
       "      <td>01/02/2013</td>\n",
       "      <td>1102</td>\n",
       "      <td>017</td>\n",
       "      <td>1247</td>\n",
       "      <td>NaN</td>\n",
       "      <td>Broderick</td>\n",
       "      <td>St</td>\n",
       "      <td>...</td>\n",
       "      <td>5.0</td>\n",
       "      <td>wood frame (5)</td>\n",
       "      <td>5.0</td>\n",
       "      <td>wood frame (5)</td>\n",
       "      <td>NaN</td>\n",
       "      <td>2.0</td>\n",
       "      <td>Western Addition</td>\n",
       "      <td>94115.0</td>\n",
       "      <td>(37.78188510892238, -122.4411253188458)</td>\n",
       "      <td>1292110425763</td>\n",
       "    </tr>\n",
       "    <tr>\n",
       "      <th>489</th>\n",
       "      <td>201301027039</td>\n",
       "      <td>8</td>\n",
       "      <td>otc alterations permit</td>\n",
       "      <td>01/02/2013</td>\n",
       "      <td>1751</td>\n",
       "      <td>010</td>\n",
       "      <td>1289</td>\n",
       "      <td>NaN</td>\n",
       "      <td>02nd</td>\n",
       "      <td>Av</td>\n",
       "      <td>...</td>\n",
       "      <td>5.0</td>\n",
       "      <td>wood frame (5)</td>\n",
       "      <td>5.0</td>\n",
       "      <td>wood frame (5)</td>\n",
       "      <td>NaN</td>\n",
       "      <td>5.0</td>\n",
       "      <td>Inner Sunset</td>\n",
       "      <td>94122.0</td>\n",
       "      <td>(37.76451538602564, -122.4591117589727)</td>\n",
       "      <td>1292113396893</td>\n",
       "    </tr>\n",
       "    <tr>\n",
       "      <th>490</th>\n",
       "      <td>201301027040</td>\n",
       "      <td>8</td>\n",
       "      <td>otc alterations permit</td>\n",
       "      <td>01/02/2013</td>\n",
       "      <td>0318</td>\n",
       "      <td>014</td>\n",
       "      <td>500</td>\n",
       "      <td>NaN</td>\n",
       "      <td>Leavenworth</td>\n",
       "      <td>St</td>\n",
       "      <td>...</td>\n",
       "      <td>3.0</td>\n",
       "      <td>constr type 3</td>\n",
       "      <td>3.0</td>\n",
       "      <td>constr type 3</td>\n",
       "      <td>NaN</td>\n",
       "      <td>6.0</td>\n",
       "      <td>Tenderloin</td>\n",
       "      <td>94102.0</td>\n",
       "      <td>(37.785819520399485, -122.41442879309835)</td>\n",
       "      <td>129211469420</td>\n",
       "    </tr>\n",
       "    <tr>\n",
       "      <th>491</th>\n",
       "      <td>201301027041</td>\n",
       "      <td>8</td>\n",
       "      <td>otc alterations permit</td>\n",
       "      <td>01/02/2013</td>\n",
       "      <td>0251</td>\n",
       "      <td>012</td>\n",
       "      <td>1262</td>\n",
       "      <td>NaN</td>\n",
       "      <td>Pine</td>\n",
       "      <td>St</td>\n",
       "      <td>...</td>\n",
       "      <td>5.0</td>\n",
       "      <td>wood frame (5)</td>\n",
       "      <td>5.0</td>\n",
       "      <td>wood frame (5)</td>\n",
       "      <td>NaN</td>\n",
       "      <td>3.0</td>\n",
       "      <td>Nob Hill</td>\n",
       "      <td>94109.0</td>\n",
       "      <td>(37.79039549824972, -122.41662615110641)</td>\n",
       "      <td>1292115272018</td>\n",
       "    </tr>\n",
       "  </tbody>\n",
       "</table>\n",
       "<p>5 rows × 43 columns</p>\n",
       "</div>"
      ],
      "text/plain": [
       "    Permit Number  Permit Type  Permit Type Definition Permit Creation Date  \\\n",
       "484  201301027037            8  otc alterations permit           01/02/2013   \n",
       "486  201301027038            8  otc alterations permit           01/02/2013   \n",
       "489  201301027039            8  otc alterations permit           01/02/2013   \n",
       "490  201301027040            8  otc alterations permit           01/02/2013   \n",
       "491  201301027041            8  otc alterations permit           01/02/2013   \n",
       "\n",
       "    Block  Lot  Street Number Street Number Suffix  Street Name Street Suffix  \\\n",
       "484  0697  039           1400                  NaN        Geary            Bl   \n",
       "486  1102  017           1247                  NaN    Broderick            St   \n",
       "489  1751  010           1289                  NaN         02nd            Av   \n",
       "490  0318  014            500                  NaN  Leavenworth            St   \n",
       "491  0251  012           1262                  NaN         Pine            St   \n",
       "\n",
       "     ...  Existing Construction Type Existing Construction Type Description  \\\n",
       "484  ...                         1.0                          constr type 1   \n",
       "486  ...                         5.0                         wood frame (5)   \n",
       "489  ...                         5.0                         wood frame (5)   \n",
       "490  ...                         3.0                          constr type 3   \n",
       "491  ...                         5.0                         wood frame (5)   \n",
       "\n",
       "    Proposed Construction Type Proposed Construction Type Description  \\\n",
       "484                        1.0                          constr type 1   \n",
       "486                        5.0                         wood frame (5)   \n",
       "489                        5.0                         wood frame (5)   \n",
       "490                        3.0                          constr type 3   \n",
       "491                        5.0                         wood frame (5)   \n",
       "\n",
       "    Site Permit Supervisor District Neighborhoods - Analysis Boundaries  \\\n",
       "484         NaN                 5.0                           Japantown   \n",
       "486         NaN                 2.0                    Western Addition   \n",
       "489         NaN                 5.0                        Inner Sunset   \n",
       "490         NaN                 6.0                          Tenderloin   \n",
       "491         NaN                 3.0                            Nob Hill   \n",
       "\n",
       "     Zipcode                                   Location      Record ID  \n",
       "484  94109.0  (37.785542417311106, -122.42713399675488)   129210879901  \n",
       "486  94115.0    (37.78188510892238, -122.4411253188458)  1292110425763  \n",
       "489  94122.0    (37.76451538602564, -122.4591117589727)  1292113396893  \n",
       "490  94102.0  (37.785819520399485, -122.41442879309835)   129211469420  \n",
       "491  94109.0   (37.79039549824972, -122.41662615110641)  1292115272018  \n",
       "\n",
       "[5 rows x 43 columns]"
      ]
     },
     "execution_count": 7,
     "metadata": {},
     "output_type": "execute_result"
    }
   ],
   "source": [
    "data1.sort_values(by='Permit Number',inplace=True)\n",
    "data1.head()"
   ]
  },
  {
   "cell_type": "markdown",
   "metadata": {},
   "source": [
    "## 找出出现次数最多的Permit Number"
   ]
  },
  {
   "cell_type": "code",
   "execution_count": 8,
   "metadata": {},
   "outputs": [
    {
     "data": {
      "text/plain": [
       "201602179765    101\n",
       "201602179758     66\n",
       "201602179775     30\n",
       "201409166451      9\n",
       "201702239990      9\n",
       "201708165004      9\n",
       "201604074211      8\n",
       "201707061162      8\n",
       "201604285989      8\n",
       "201602179774      8\n",
       "201702099112      8\n",
       "201706220077      7\n",
       "201709158539      7\n",
       "201506128838      7\n",
       "M586808           7\n",
       "M598547           7\n",
       "201711284975      7\n",
       "201705267761      7\n",
       "201604124594      7\n",
       "201708286162      7\n",
       "201708144771      7\n",
       "201605208035      7\n",
       "201608155046      6\n",
       "201605046517      6\n",
       "201607202837      6\n",
       "201801128607      6\n",
       "201605127298      6\n",
       "201711214576      6\n",
       "201604013784      6\n",
       "201609076946      6\n",
       "               ... \n",
       "201703292675      1\n",
       "201706068563      1\n",
       "201509146855      1\n",
       "201706290659      1\n",
       "201704244752      1\n",
       "201505126012      1\n",
       "201302120029      1\n",
       "201305318368      1\n",
       "201311222631      1\n",
       "M547808           1\n",
       "M768707           1\n",
       "201307252808      1\n",
       "201604124588      1\n",
       "201508073701      1\n",
       "201507131339      1\n",
       "201602189990      1\n",
       "M602027           1\n",
       "201701268002      1\n",
       "M404707           1\n",
       "201705096036      1\n",
       "201606099489      1\n",
       "201611082262      1\n",
       "M536647           1\n",
       "201310179529      1\n",
       "M698008           1\n",
       "M400087           1\n",
       "201408153936      1\n",
       "201610140285      1\n",
       "201706270431      1\n",
       "201703101202      1\n",
       "Name: Permit Number, Length: 181495, dtype: int64"
      ]
     },
     "execution_count": 8,
     "metadata": {},
     "output_type": "execute_result"
    }
   ],
   "source": [
    "data1['Permit Number'].value_counts()"
   ]
  },
  {
   "cell_type": "code",
   "execution_count": 9,
   "metadata": {
    "scrolled": true
   },
   "outputs": [
    {
     "data": {
      "text/plain": [
       "pandas.core.series.Series"
      ]
     },
     "execution_count": 9,
     "metadata": {},
     "output_type": "execute_result"
    }
   ],
   "source": [
    "type(data1['Permit Number'].value_counts())"
   ]
  },
  {
   "cell_type": "code",
   "execution_count": 10,
   "metadata": {},
   "outputs": [
    {
     "data": {
      "text/plain": [
       "201602179765    101\n",
       "Name: Permit Number, dtype: int64"
      ]
     },
     "execution_count": 10,
     "metadata": {},
     "output_type": "execute_result"
    }
   ],
   "source": [
    "data1['Permit Number'].value_counts()[0:1:1]"
   ]
  },
  {
   "cell_type": "markdown",
   "metadata": {},
   "source": [
    "## 查看变量Current Status有多少个唯一值，每个值出现了多少次"
   ]
  },
  {
   "cell_type": "code",
   "execution_count": 11,
   "metadata": {},
   "outputs": [
    {
     "data": {
      "text/plain": [
       "14"
      ]
     },
     "execution_count": 11,
     "metadata": {},
     "output_type": "execute_result"
    }
   ],
   "source": [
    "data1['Current Status'].unique().shape[0]"
   ]
  },
  {
   "cell_type": "code",
   "execution_count": 12,
   "metadata": {},
   "outputs": [
    {
     "data": {
      "text/plain": [
       "complete       97077\n",
       "issued         83559\n",
       "filed          12043\n",
       "withdrawn       1754\n",
       "cancelled       1536\n",
       "expired         1370\n",
       "approved         733\n",
       "reinstated       563\n",
       "suspend          193\n",
       "revoked           50\n",
       "plancheck         16\n",
       "incomplete         2\n",
       "disapproved        2\n",
       "appeal             2\n",
       "Name: Current Status, dtype: int64"
      ]
     },
     "execution_count": 12,
     "metadata": {},
     "output_type": "execute_result"
    }
   ],
   "source": [
    "data1['Current Status'].value_counts()"
   ]
  },
  {
   "cell_type": "markdown",
   "metadata": {},
   "source": [
    "## 把Current Status变量取值为complete的行找出来存为数据框data2"
   ]
  },
  {
   "cell_type": "code",
   "execution_count": 13,
   "metadata": {},
   "outputs": [
    {
     "data": {
      "text/html": [
       "<div>\n",
       "<style scoped>\n",
       "    .dataframe tbody tr th:only-of-type {\n",
       "        vertical-align: middle;\n",
       "    }\n",
       "\n",
       "    .dataframe tbody tr th {\n",
       "        vertical-align: top;\n",
       "    }\n",
       "\n",
       "    .dataframe thead th {\n",
       "        text-align: right;\n",
       "    }\n",
       "</style>\n",
       "<table border=\"1\" class=\"dataframe\">\n",
       "  <thead>\n",
       "    <tr style=\"text-align: right;\">\n",
       "      <th></th>\n",
       "      <th>Permit Number</th>\n",
       "      <th>Permit Type</th>\n",
       "      <th>Permit Type Definition</th>\n",
       "      <th>Permit Creation Date</th>\n",
       "      <th>Block</th>\n",
       "      <th>Lot</th>\n",
       "      <th>Street Number</th>\n",
       "      <th>Street Number Suffix</th>\n",
       "      <th>Street Name</th>\n",
       "      <th>Street Suffix</th>\n",
       "      <th>...</th>\n",
       "      <th>Existing Construction Type</th>\n",
       "      <th>Existing Construction Type Description</th>\n",
       "      <th>Proposed Construction Type</th>\n",
       "      <th>Proposed Construction Type Description</th>\n",
       "      <th>Site Permit</th>\n",
       "      <th>Supervisor District</th>\n",
       "      <th>Neighborhoods - Analysis Boundaries</th>\n",
       "      <th>Zipcode</th>\n",
       "      <th>Location</th>\n",
       "      <th>Record ID</th>\n",
       "    </tr>\n",
       "  </thead>\n",
       "  <tbody>\n",
       "    <tr>\n",
       "      <th>484</th>\n",
       "      <td>201301027037</td>\n",
       "      <td>8</td>\n",
       "      <td>otc alterations permit</td>\n",
       "      <td>01/02/2013</td>\n",
       "      <td>0697</td>\n",
       "      <td>039</td>\n",
       "      <td>1400</td>\n",
       "      <td>NaN</td>\n",
       "      <td>Geary</td>\n",
       "      <td>Bl</td>\n",
       "      <td>...</td>\n",
       "      <td>1.0</td>\n",
       "      <td>constr type 1</td>\n",
       "      <td>1.0</td>\n",
       "      <td>constr type 1</td>\n",
       "      <td>NaN</td>\n",
       "      <td>5.0</td>\n",
       "      <td>Japantown</td>\n",
       "      <td>94109.0</td>\n",
       "      <td>(37.785542417311106, -122.42713399675488)</td>\n",
       "      <td>129210879901</td>\n",
       "    </tr>\n",
       "    <tr>\n",
       "      <th>486</th>\n",
       "      <td>201301027038</td>\n",
       "      <td>8</td>\n",
       "      <td>otc alterations permit</td>\n",
       "      <td>01/02/2013</td>\n",
       "      <td>1102</td>\n",
       "      <td>017</td>\n",
       "      <td>1247</td>\n",
       "      <td>NaN</td>\n",
       "      <td>Broderick</td>\n",
       "      <td>St</td>\n",
       "      <td>...</td>\n",
       "      <td>5.0</td>\n",
       "      <td>wood frame (5)</td>\n",
       "      <td>5.0</td>\n",
       "      <td>wood frame (5)</td>\n",
       "      <td>NaN</td>\n",
       "      <td>2.0</td>\n",
       "      <td>Western Addition</td>\n",
       "      <td>94115.0</td>\n",
       "      <td>(37.78188510892238, -122.4411253188458)</td>\n",
       "      <td>1292110425763</td>\n",
       "    </tr>\n",
       "    <tr>\n",
       "      <th>489</th>\n",
       "      <td>201301027039</td>\n",
       "      <td>8</td>\n",
       "      <td>otc alterations permit</td>\n",
       "      <td>01/02/2013</td>\n",
       "      <td>1751</td>\n",
       "      <td>010</td>\n",
       "      <td>1289</td>\n",
       "      <td>NaN</td>\n",
       "      <td>02nd</td>\n",
       "      <td>Av</td>\n",
       "      <td>...</td>\n",
       "      <td>5.0</td>\n",
       "      <td>wood frame (5)</td>\n",
       "      <td>5.0</td>\n",
       "      <td>wood frame (5)</td>\n",
       "      <td>NaN</td>\n",
       "      <td>5.0</td>\n",
       "      <td>Inner Sunset</td>\n",
       "      <td>94122.0</td>\n",
       "      <td>(37.76451538602564, -122.4591117589727)</td>\n",
       "      <td>1292113396893</td>\n",
       "    </tr>\n",
       "    <tr>\n",
       "      <th>490</th>\n",
       "      <td>201301027040</td>\n",
       "      <td>8</td>\n",
       "      <td>otc alterations permit</td>\n",
       "      <td>01/02/2013</td>\n",
       "      <td>0318</td>\n",
       "      <td>014</td>\n",
       "      <td>500</td>\n",
       "      <td>NaN</td>\n",
       "      <td>Leavenworth</td>\n",
       "      <td>St</td>\n",
       "      <td>...</td>\n",
       "      <td>3.0</td>\n",
       "      <td>constr type 3</td>\n",
       "      <td>3.0</td>\n",
       "      <td>constr type 3</td>\n",
       "      <td>NaN</td>\n",
       "      <td>6.0</td>\n",
       "      <td>Tenderloin</td>\n",
       "      <td>94102.0</td>\n",
       "      <td>(37.785819520399485, -122.41442879309835)</td>\n",
       "      <td>129211469420</td>\n",
       "    </tr>\n",
       "    <tr>\n",
       "      <th>491</th>\n",
       "      <td>201301027041</td>\n",
       "      <td>8</td>\n",
       "      <td>otc alterations permit</td>\n",
       "      <td>01/02/2013</td>\n",
       "      <td>0251</td>\n",
       "      <td>012</td>\n",
       "      <td>1262</td>\n",
       "      <td>NaN</td>\n",
       "      <td>Pine</td>\n",
       "      <td>St</td>\n",
       "      <td>...</td>\n",
       "      <td>5.0</td>\n",
       "      <td>wood frame (5)</td>\n",
       "      <td>5.0</td>\n",
       "      <td>wood frame (5)</td>\n",
       "      <td>NaN</td>\n",
       "      <td>3.0</td>\n",
       "      <td>Nob Hill</td>\n",
       "      <td>94109.0</td>\n",
       "      <td>(37.79039549824972, -122.41662615110641)</td>\n",
       "      <td>1292115272018</td>\n",
       "    </tr>\n",
       "  </tbody>\n",
       "</table>\n",
       "<p>5 rows × 43 columns</p>\n",
       "</div>"
      ],
      "text/plain": [
       "    Permit Number  Permit Type  Permit Type Definition Permit Creation Date  \\\n",
       "484  201301027037            8  otc alterations permit           01/02/2013   \n",
       "486  201301027038            8  otc alterations permit           01/02/2013   \n",
       "489  201301027039            8  otc alterations permit           01/02/2013   \n",
       "490  201301027040            8  otc alterations permit           01/02/2013   \n",
       "491  201301027041            8  otc alterations permit           01/02/2013   \n",
       "\n",
       "    Block  Lot  Street Number Street Number Suffix  Street Name Street Suffix  \\\n",
       "484  0697  039           1400                  NaN        Geary            Bl   \n",
       "486  1102  017           1247                  NaN    Broderick            St   \n",
       "489  1751  010           1289                  NaN         02nd            Av   \n",
       "490  0318  014            500                  NaN  Leavenworth            St   \n",
       "491  0251  012           1262                  NaN         Pine            St   \n",
       "\n",
       "     ...  Existing Construction Type Existing Construction Type Description  \\\n",
       "484  ...                         1.0                          constr type 1   \n",
       "486  ...                         5.0                         wood frame (5)   \n",
       "489  ...                         5.0                         wood frame (5)   \n",
       "490  ...                         3.0                          constr type 3   \n",
       "491  ...                         5.0                         wood frame (5)   \n",
       "\n",
       "    Proposed Construction Type Proposed Construction Type Description  \\\n",
       "484                        1.0                          constr type 1   \n",
       "486                        5.0                         wood frame (5)   \n",
       "489                        5.0                         wood frame (5)   \n",
       "490                        3.0                          constr type 3   \n",
       "491                        5.0                         wood frame (5)   \n",
       "\n",
       "    Site Permit Supervisor District Neighborhoods - Analysis Boundaries  \\\n",
       "484         NaN                 5.0                           Japantown   \n",
       "486         NaN                 2.0                    Western Addition   \n",
       "489         NaN                 5.0                        Inner Sunset   \n",
       "490         NaN                 6.0                          Tenderloin   \n",
       "491         NaN                 3.0                            Nob Hill   \n",
       "\n",
       "     Zipcode                                   Location      Record ID  \n",
       "484  94109.0  (37.785542417311106, -122.42713399675488)   129210879901  \n",
       "486  94115.0    (37.78188510892238, -122.4411253188458)  1292110425763  \n",
       "489  94122.0    (37.76451538602564, -122.4591117589727)  1292113396893  \n",
       "490  94102.0  (37.785819520399485, -122.41442879309835)   129211469420  \n",
       "491  94109.0   (37.79039549824972, -122.41662615110641)  1292115272018  \n",
       "\n",
       "[5 rows x 43 columns]"
      ]
     },
     "execution_count": 13,
     "metadata": {},
     "output_type": "execute_result"
    }
   ],
   "source": [
    "data2=data1[data1['Current Status']=='complete']\n",
    "data2.head()"
   ]
  },
  {
   "cell_type": "markdown",
   "metadata": {},
   "source": [
    "## 统计数据框data2中Permit Number变量的每个值出现了多少次"
   ]
  },
  {
   "cell_type": "code",
   "execution_count": 14,
   "metadata": {},
   "outputs": [
    {
     "data": {
      "text/plain": [
       "201602179758    66\n",
       "201602179775    30\n",
       "201708165004     9\n",
       "201702239990     9\n",
       "201707061162     8\n",
       "201604285989     8\n",
       "201602179774     8\n",
       "201702099112     8\n",
       "201708144771     7\n",
       "201605208035     7\n",
       "201705267761     7\n",
       "201708286162     7\n",
       "201711284975     7\n",
       "201506128838     7\n",
       "201604124594     7\n",
       "201709087418     6\n",
       "201602028585     6\n",
       "201307111580     6\n",
       "201605318693     6\n",
       "201605127298     6\n",
       "201604013784     6\n",
       "201508174373     6\n",
       "201310240089     5\n",
       "201607122097     5\n",
       "201706169551     5\n",
       "201504305039     5\n",
       "201504305054     5\n",
       "201504305027     5\n",
       "201608266157     5\n",
       "201603303507     5\n",
       "                ..\n",
       "201311081515     1\n",
       "201605177643     1\n",
       "201403039715     1\n",
       "201511132496     1\n",
       "201603041227     1\n",
       "201403049766     1\n",
       "201708033852     1\n",
       "201603313663     1\n",
       "201705035547     1\n",
       "201604114459     1\n",
       "201607212952     1\n",
       "201412304665     1\n",
       "201405155802     1\n",
       "201708296287     1\n",
       "201707212634     1\n",
       "201710121143     1\n",
       "201304033699     1\n",
       "201308013337     1\n",
       "201311051133     1\n",
       "201307031149     1\n",
       "201404233990     1\n",
       "201708043887     1\n",
       "201401085853     1\n",
       "201306280795     1\n",
       "201501155809     1\n",
       "201302130108     1\n",
       "201310018188     1\n",
       "201706088832     1\n",
       "201508063581     1\n",
       "201309136770     1\n",
       "Name: Permit Number, Length: 88842, dtype: int64"
      ]
     },
     "execution_count": 14,
     "metadata": {},
     "output_type": "execute_result"
    }
   ],
   "source": [
    "data2['Permit Number'].value_counts()"
   ]
  },
  {
   "cell_type": "markdown",
   "metadata": {},
   "source": [
    "## 计算数据框data2各列的缺失值比率，将结果存为missrate，并且求一下缺失比例大于0.5的列的个数"
   ]
  },
  {
   "cell_type": "code",
   "execution_count": 15,
   "metadata": {},
   "outputs": [
    {
     "data": {
      "text/plain": [
       "Street Number Suffix             0.989586\n",
       "Unit                             0.847863\n",
       "Unit Suffix                      0.989400\n",
       "Structural Notification          0.970529\n",
       "Voluntary Soft-Story Retrofit    0.999835\n",
       "Fire Only Permit                 0.868136\n",
       "TIDF Compliance                  0.999979\n",
       "Site Permit                      0.988761\n",
       "dtype: float64"
      ]
     },
     "execution_count": 15,
     "metadata": {},
     "output_type": "execute_result"
    }
   ],
   "source": [
    "missrate=data2.isnull().mean()\n",
    "missrate[missrate>0.5]"
   ]
  },
  {
   "cell_type": "code",
   "execution_count": 16,
   "metadata": {},
   "outputs": [
    {
     "data": {
      "text/plain": [
       "8"
      ]
     },
     "execution_count": 16,
     "metadata": {},
     "output_type": "execute_result"
    }
   ],
   "source": [
    "missrate[missrate>0.5].shape[0]"
   ]
  },
  {
   "cell_type": "markdown",
   "metadata": {},
   "source": [
    "## 获取日期变量生成名字列表"
   ]
  },
  {
   "cell_type": "code",
   "execution_count": 17,
   "metadata": {},
   "outputs": [
    {
     "data": {
      "text/plain": [
       "['Permit Creation Date',\n",
       " 'Current Status Date',\n",
       " 'Filed Date',\n",
       " 'Issued Date',\n",
       " 'Completed Date',\n",
       " 'First Construction Document Date',\n",
       " 'Permit Expiration Date']"
      ]
     },
     "execution_count": 17,
     "metadata": {},
     "output_type": "execute_result"
    }
   ],
   "source": [
    "#法一\n",
    "strdate=[]\n",
    "for i in data2.columns:\n",
    "    if i.find('Date')!=-1:\n",
    "        strdate.append(i)\n",
    "strdate"
   ]
  },
  {
   "cell_type": "code",
   "execution_count": 18,
   "metadata": {},
   "outputs": [
    {
     "data": {
      "text/plain": [
       "['Permit Creation Date',\n",
       " 'Current Status Date',\n",
       " 'Filed Date',\n",
       " 'Issued Date',\n",
       " 'Completed Date',\n",
       " 'First Construction Document Date',\n",
       " 'Permit Expiration Date']"
      ]
     },
     "execution_count": 18,
     "metadata": {},
     "output_type": "execute_result"
    }
   ],
   "source": [
    "#法二\n",
    "strdata1=[]\n",
    "for i in data2.columns:\n",
    "    if i[-4:-1]=='Dat':\n",
    "        strdata1.append(i)\n",
    "strdata1"
   ]
  },
  {
   "cell_type": "markdown",
   "metadata": {},
   "source": [
    "生成的日期变量列表的名字为strdate。\n",
    "提示：如果变量的名字中包含Date字样，则这个变量是日期变量。\n",
    "这里直接导入的日期变量可能是字符串变量。后面需要处理。"
   ]
  },
  {
   "cell_type": "markdown",
   "metadata": {},
   "source": [
    "## 生成一个新的日期变量列表（datedate），以便于存储更改格式后的正确日期，新的日期变量名字，在原来的名字基础上加上后缀1。"
   ]
  },
  {
   "cell_type": "code",
   "execution_count": 19,
   "metadata": {},
   "outputs": [
    {
     "data": {
      "text/plain": [
       "['Permit Creation Date1',\n",
       " 'Current Status Date1',\n",
       " 'Filed Date1',\n",
       " 'Issued Date1',\n",
       " 'Completed Date1',\n",
       " 'First Construction Document Date1',\n",
       " 'Permit Expiration Date1']"
      ]
     },
     "execution_count": 19,
     "metadata": {},
     "output_type": "execute_result"
    }
   ],
   "source": [
    "#法一\n",
    "datedate=list(map(lambda x: x+'1',strdate))\n",
    "datedate"
   ]
  },
  {
   "cell_type": "code",
   "execution_count": 20,
   "metadata": {
    "scrolled": true
   },
   "outputs": [
    {
     "data": {
      "text/plain": [
       "['Permit Creation Date1',\n",
       " 'Current Status Date1',\n",
       " 'Filed Date1',\n",
       " 'Issued Date1',\n",
       " 'Completed Date1',\n",
       " 'First Construction Document Date1',\n",
       " 'Permit Expiration Date1']"
      ]
     },
     "execution_count": 20,
     "metadata": {},
     "output_type": "execute_result"
    }
   ],
   "source": [
    "#法二\n",
    "datedate1=[]\n",
    "for i in data2.columns:\n",
    "    if i[-4:-1]=='Dat':\n",
    "         datedate1.append(i+'1')\n",
    "datedate1"
   ]
  },
  {
   "cell_type": "markdown",
   "metadata": {},
   "source": [
    "## 用循环将日期转化为正确的格式，并存为指定的变量名字。"
   ]
  },
  {
   "cell_type": "code",
   "execution_count": 21,
   "metadata": {},
   "outputs": [],
   "source": [
    "#举个例子将根据原来的Permit Creation Date变量生成Permit Creation Date1变量\n",
    "#Permit Creation Date1为日期时间类型"
   ]
  },
  {
   "cell_type": "code",
   "execution_count": 23,
   "metadata": {},
   "outputs": [
    {
     "name": "stderr",
     "output_type": "stream",
     "text": [
      "D:\\ProgramData\\Anaconda3\\lib\\site-packages\\ipykernel_launcher.py:2: SettingWithCopyWarning: \n",
      "A value is trying to be set on a copy of a slice from a DataFrame.\n",
      "Try using .loc[row_indexer,col_indexer] = value instead\n",
      "\n",
      "See the caveats in the documentation: http://pandas.pydata.org/pandas-docs/stable/indexing.html#indexing-view-versus-copy\n",
      "  \n"
     ]
    }
   ],
   "source": [
    "for i,j in zip(datedate,strdate):\n",
    "    data2[i]=pd.to_datetime(data2[j],errors=\"coerce\")"
   ]
  },
  {
   "cell_type": "code",
   "execution_count": 24,
   "metadata": {},
   "outputs": [
    {
     "data": {
      "text/html": [
       "<div>\n",
       "<style scoped>\n",
       "    .dataframe tbody tr th:only-of-type {\n",
       "        vertical-align: middle;\n",
       "    }\n",
       "\n",
       "    .dataframe tbody tr th {\n",
       "        vertical-align: top;\n",
       "    }\n",
       "\n",
       "    .dataframe thead th {\n",
       "        text-align: right;\n",
       "    }\n",
       "</style>\n",
       "<table border=\"1\" class=\"dataframe\">\n",
       "  <thead>\n",
       "    <tr style=\"text-align: right;\">\n",
       "      <th></th>\n",
       "      <th>Permit Number</th>\n",
       "      <th>Permit Type</th>\n",
       "      <th>Permit Type Definition</th>\n",
       "      <th>Permit Creation Date</th>\n",
       "      <th>Block</th>\n",
       "      <th>Lot</th>\n",
       "      <th>Street Number</th>\n",
       "      <th>Street Number Suffix</th>\n",
       "      <th>Street Name</th>\n",
       "      <th>Street Suffix</th>\n",
       "      <th>...</th>\n",
       "      <th>Zipcode</th>\n",
       "      <th>Location</th>\n",
       "      <th>Record ID</th>\n",
       "      <th>Permit Creation Date1</th>\n",
       "      <th>Current Status Date1</th>\n",
       "      <th>Filed Date1</th>\n",
       "      <th>Issued Date1</th>\n",
       "      <th>Completed Date1</th>\n",
       "      <th>First Construction Document Date1</th>\n",
       "      <th>Permit Expiration Date1</th>\n",
       "    </tr>\n",
       "  </thead>\n",
       "  <tbody>\n",
       "    <tr>\n",
       "      <th>484</th>\n",
       "      <td>201301027037</td>\n",
       "      <td>8</td>\n",
       "      <td>otc alterations permit</td>\n",
       "      <td>01/02/2013</td>\n",
       "      <td>0697</td>\n",
       "      <td>039</td>\n",
       "      <td>1400</td>\n",
       "      <td>NaN</td>\n",
       "      <td>Geary</td>\n",
       "      <td>Bl</td>\n",
       "      <td>...</td>\n",
       "      <td>94109.0</td>\n",
       "      <td>(37.785542417311106, -122.42713399675488)</td>\n",
       "      <td>129210879901</td>\n",
       "      <td>2013-01-02</td>\n",
       "      <td>2013-10-15</td>\n",
       "      <td>2013-01-02</td>\n",
       "      <td>2013-01-02</td>\n",
       "      <td>2013-10-15</td>\n",
       "      <td>2013-01-02</td>\n",
       "      <td>2013-12-28</td>\n",
       "    </tr>\n",
       "    <tr>\n",
       "      <th>486</th>\n",
       "      <td>201301027038</td>\n",
       "      <td>8</td>\n",
       "      <td>otc alterations permit</td>\n",
       "      <td>01/02/2013</td>\n",
       "      <td>1102</td>\n",
       "      <td>017</td>\n",
       "      <td>1247</td>\n",
       "      <td>NaN</td>\n",
       "      <td>Broderick</td>\n",
       "      <td>St</td>\n",
       "      <td>...</td>\n",
       "      <td>94115.0</td>\n",
       "      <td>(37.78188510892238, -122.4411253188458)</td>\n",
       "      <td>1292110425763</td>\n",
       "      <td>2013-01-02</td>\n",
       "      <td>2013-02-07</td>\n",
       "      <td>2013-01-02</td>\n",
       "      <td>2013-01-02</td>\n",
       "      <td>2013-02-07</td>\n",
       "      <td>2013-01-02</td>\n",
       "      <td>2013-12-28</td>\n",
       "    </tr>\n",
       "    <tr>\n",
       "      <th>489</th>\n",
       "      <td>201301027039</td>\n",
       "      <td>8</td>\n",
       "      <td>otc alterations permit</td>\n",
       "      <td>01/02/2013</td>\n",
       "      <td>1751</td>\n",
       "      <td>010</td>\n",
       "      <td>1289</td>\n",
       "      <td>NaN</td>\n",
       "      <td>02nd</td>\n",
       "      <td>Av</td>\n",
       "      <td>...</td>\n",
       "      <td>94122.0</td>\n",
       "      <td>(37.76451538602564, -122.4591117589727)</td>\n",
       "      <td>1292113396893</td>\n",
       "      <td>2013-01-02</td>\n",
       "      <td>2013-01-25</td>\n",
       "      <td>2013-01-02</td>\n",
       "      <td>2013-01-02</td>\n",
       "      <td>2013-01-25</td>\n",
       "      <td>2013-01-02</td>\n",
       "      <td>2013-12-28</td>\n",
       "    </tr>\n",
       "    <tr>\n",
       "      <th>490</th>\n",
       "      <td>201301027040</td>\n",
       "      <td>8</td>\n",
       "      <td>otc alterations permit</td>\n",
       "      <td>01/02/2013</td>\n",
       "      <td>0318</td>\n",
       "      <td>014</td>\n",
       "      <td>500</td>\n",
       "      <td>NaN</td>\n",
       "      <td>Leavenworth</td>\n",
       "      <td>St</td>\n",
       "      <td>...</td>\n",
       "      <td>94102.0</td>\n",
       "      <td>(37.785819520399485, -122.41442879309835)</td>\n",
       "      <td>129211469420</td>\n",
       "      <td>2013-01-02</td>\n",
       "      <td>2013-03-25</td>\n",
       "      <td>2013-01-02</td>\n",
       "      <td>2013-01-02</td>\n",
       "      <td>2013-03-25</td>\n",
       "      <td>2013-01-02</td>\n",
       "      <td>2013-12-28</td>\n",
       "    </tr>\n",
       "    <tr>\n",
       "      <th>491</th>\n",
       "      <td>201301027041</td>\n",
       "      <td>8</td>\n",
       "      <td>otc alterations permit</td>\n",
       "      <td>01/02/2013</td>\n",
       "      <td>0251</td>\n",
       "      <td>012</td>\n",
       "      <td>1262</td>\n",
       "      <td>NaN</td>\n",
       "      <td>Pine</td>\n",
       "      <td>St</td>\n",
       "      <td>...</td>\n",
       "      <td>94109.0</td>\n",
       "      <td>(37.79039549824972, -122.41662615110641)</td>\n",
       "      <td>1292115272018</td>\n",
       "      <td>2013-01-02</td>\n",
       "      <td>2013-10-02</td>\n",
       "      <td>2013-01-02</td>\n",
       "      <td>2013-01-02</td>\n",
       "      <td>2013-10-02</td>\n",
       "      <td>2013-01-02</td>\n",
       "      <td>2013-12-28</td>\n",
       "    </tr>\n",
       "  </tbody>\n",
       "</table>\n",
       "<p>5 rows × 50 columns</p>\n",
       "</div>"
      ],
      "text/plain": [
       "    Permit Number  Permit Type  Permit Type Definition Permit Creation Date  \\\n",
       "484  201301027037            8  otc alterations permit           01/02/2013   \n",
       "486  201301027038            8  otc alterations permit           01/02/2013   \n",
       "489  201301027039            8  otc alterations permit           01/02/2013   \n",
       "490  201301027040            8  otc alterations permit           01/02/2013   \n",
       "491  201301027041            8  otc alterations permit           01/02/2013   \n",
       "\n",
       "    Block  Lot  Street Number Street Number Suffix  Street Name Street Suffix  \\\n",
       "484  0697  039           1400                  NaN        Geary            Bl   \n",
       "486  1102  017           1247                  NaN    Broderick            St   \n",
       "489  1751  010           1289                  NaN         02nd            Av   \n",
       "490  0318  014            500                  NaN  Leavenworth            St   \n",
       "491  0251  012           1262                  NaN         Pine            St   \n",
       "\n",
       "     ...  Zipcode                                   Location      Record ID  \\\n",
       "484  ...  94109.0  (37.785542417311106, -122.42713399675488)   129210879901   \n",
       "486  ...  94115.0    (37.78188510892238, -122.4411253188458)  1292110425763   \n",
       "489  ...  94122.0    (37.76451538602564, -122.4591117589727)  1292113396893   \n",
       "490  ...  94102.0  (37.785819520399485, -122.41442879309835)   129211469420   \n",
       "491  ...  94109.0   (37.79039549824972, -122.41662615110641)  1292115272018   \n",
       "\n",
       "    Permit Creation Date1 Current Status Date1 Filed Date1 Issued Date1  \\\n",
       "484            2013-01-02           2013-10-15  2013-01-02   2013-01-02   \n",
       "486            2013-01-02           2013-02-07  2013-01-02   2013-01-02   \n",
       "489            2013-01-02           2013-01-25  2013-01-02   2013-01-02   \n",
       "490            2013-01-02           2013-03-25  2013-01-02   2013-01-02   \n",
       "491            2013-01-02           2013-10-02  2013-01-02   2013-01-02   \n",
       "\n",
       "    Completed Date1 First Construction Document Date1 Permit Expiration Date1  \n",
       "484      2013-10-15                        2013-01-02              2013-12-28  \n",
       "486      2013-02-07                        2013-01-02              2013-12-28  \n",
       "489      2013-01-25                        2013-01-02              2013-12-28  \n",
       "490      2013-03-25                        2013-01-02              2013-12-28  \n",
       "491      2013-10-02                        2013-01-02              2013-12-28  \n",
       "\n",
       "[5 rows x 50 columns]"
      ]
     },
     "execution_count": 24,
     "metadata": {},
     "output_type": "execute_result"
    }
   ],
   "source": [
    "data2.head()"
   ]
  },
  {
   "cell_type": "markdown",
   "metadata": {},
   "source": [
    "## 计算所有日期格式变量每一行有多少个缺失值"
   ]
  },
  {
   "cell_type": "code",
   "execution_count": null,
   "metadata": {},
   "outputs": [],
   "source": [
    "#比如有6个时间变量，这六个时间变量在第一行一共有多少个缺失值。"
   ]
  },
  {
   "cell_type": "code",
   "execution_count": 25,
   "metadata": {},
   "outputs": [
    {
     "data": {
      "text/plain": [
       "484       0\n",
       "486       0\n",
       "489       0\n",
       "490       0\n",
       "491       0\n",
       "492       0\n",
       "493       0\n",
       "494       0\n",
       "536       0\n",
       "496       0\n",
       "497       0\n",
       "499       0\n",
       "500       0\n",
       "501       0\n",
       "503       0\n",
       "504       0\n",
       "505       0\n",
       "507       0\n",
       "508       0\n",
       "511       0\n",
       "513       0\n",
       "510       0\n",
       "512       0\n",
       "515       0\n",
       "514       0\n",
       "516       0\n",
       "518       0\n",
       "521       0\n",
       "519       0\n",
       "520       0\n",
       "         ..\n",
       "197380    0\n",
       "197464    0\n",
       "197524    0\n",
       "197531    0\n",
       "197575    0\n",
       "197634    0\n",
       "197581    0\n",
       "197579    0\n",
       "197693    0\n",
       "197691    0\n",
       "197761    0\n",
       "197786    0\n",
       "197826    0\n",
       "197990    0\n",
       "198092    0\n",
       "198093    0\n",
       "198175    0\n",
       "198162    0\n",
       "198193    0\n",
       "198191    0\n",
       "198135    0\n",
       "198314    0\n",
       "198396    0\n",
       "198397    0\n",
       "198418    0\n",
       "198459    0\n",
       "198469    0\n",
       "198715    0\n",
       "162584    1\n",
       "189104    1\n",
       "Length: 97077, dtype: int64"
      ]
     },
     "execution_count": 25,
     "metadata": {},
     "output_type": "execute_result"
    }
   ],
   "source": [
    "data2[datedate].isnull().sum(axis=1)\n",
    "#data2[datedate].isnull().apply(np.sum,axis=1)                 #错的"
   ]
  },
  {
   "cell_type": "markdown",
   "metadata": {},
   "source": [
    "## 把data2里面的第1,2,1000行日期时间列的值切出来"
   ]
  },
  {
   "cell_type": "markdown",
   "metadata": {},
   "source": [
    "根据excel说明文件的说明，许可证创建日期要晚于或者等于归档日期。\n",
    "- 几个日期的先后顺序应该是，\n",
    "归档日期--许可证创建日期--许可证签发日期--第一次施工文件日期--当前状态日期--完成日期。\n",
    "- 只有当前状态为完工的情况下，完成日期才有意义。\n",
    "- 其中归档日期、许可证创建日期、许可证签发日期这几个日期很接近。\n",
    "- 通过观察发现Permit Creation Date1和Filed Date1基本相同\n",
    "- Currents Status Date1和Completed Date1基本相同\n",
    "- Issued Date1和First Construction Document Date1基本相同"
   ]
  },
  {
   "cell_type": "code",
   "execution_count": 26,
   "metadata": {},
   "outputs": [
    {
     "data": {
      "text/html": [
       "<div>\n",
       "<style scoped>\n",
       "    .dataframe tbody tr th:only-of-type {\n",
       "        vertical-align: middle;\n",
       "    }\n",
       "\n",
       "    .dataframe tbody tr th {\n",
       "        vertical-align: top;\n",
       "    }\n",
       "\n",
       "    .dataframe thead th {\n",
       "        text-align: right;\n",
       "    }\n",
       "</style>\n",
       "<table border=\"1\" class=\"dataframe\">\n",
       "  <thead>\n",
       "    <tr style=\"text-align: right;\">\n",
       "      <th></th>\n",
       "      <th>Permit Creation Date1</th>\n",
       "      <th>Current Status Date1</th>\n",
       "      <th>Filed Date1</th>\n",
       "      <th>Issued Date1</th>\n",
       "      <th>Completed Date1</th>\n",
       "      <th>First Construction Document Date1</th>\n",
       "      <th>Permit Expiration Date1</th>\n",
       "    </tr>\n",
       "  </thead>\n",
       "  <tbody>\n",
       "    <tr>\n",
       "      <th>486</th>\n",
       "      <td>2013-01-02</td>\n",
       "      <td>2013-02-07</td>\n",
       "      <td>2013-01-02</td>\n",
       "      <td>2013-01-02</td>\n",
       "      <td>2013-02-07</td>\n",
       "      <td>2013-01-02</td>\n",
       "      <td>2013-12-28</td>\n",
       "    </tr>\n",
       "    <tr>\n",
       "      <th>489</th>\n",
       "      <td>2013-01-02</td>\n",
       "      <td>2013-01-25</td>\n",
       "      <td>2013-01-02</td>\n",
       "      <td>2013-01-02</td>\n",
       "      <td>2013-01-25</td>\n",
       "      <td>2013-01-02</td>\n",
       "      <td>2013-12-28</td>\n",
       "    </tr>\n",
       "    <tr>\n",
       "      <th>2166</th>\n",
       "      <td>2013-01-22</td>\n",
       "      <td>2013-07-10</td>\n",
       "      <td>2013-01-22</td>\n",
       "      <td>2013-01-25</td>\n",
       "      <td>2013-07-10</td>\n",
       "      <td>2013-01-25</td>\n",
       "      <td>2014-01-20</td>\n",
       "    </tr>\n",
       "  </tbody>\n",
       "</table>\n",
       "</div>"
      ],
      "text/plain": [
       "     Permit Creation Date1 Current Status Date1 Filed Date1 Issued Date1  \\\n",
       "486             2013-01-02           2013-02-07  2013-01-02   2013-01-02   \n",
       "489             2013-01-02           2013-01-25  2013-01-02   2013-01-02   \n",
       "2166            2013-01-22           2013-07-10  2013-01-22   2013-01-25   \n",
       "\n",
       "     Completed Date1 First Construction Document Date1 Permit Expiration Date1  \n",
       "486       2013-02-07                        2013-01-02              2013-12-28  \n",
       "489       2013-01-25                        2013-01-02              2013-12-28  \n",
       "2166      2013-07-10                        2013-01-25              2014-01-20  "
      ]
     },
     "execution_count": 26,
     "metadata": {},
     "output_type": "execute_result"
    }
   ],
   "source": [
    "data2[datedate].iloc[[1,2,1000],:]"
   ]
  },
  {
   "cell_type": "markdown",
   "metadata": {},
   "source": [
    "## 查看所有日期时间变量的缺失值比例"
   ]
  },
  {
   "cell_type": "code",
   "execution_count": 27,
   "metadata": {},
   "outputs": [
    {
     "data": {
      "text/plain": [
       "Permit Creation Date1                0.000000\n",
       "Current Status Date1                 0.000000\n",
       "Filed Date1                          0.000000\n",
       "Issued Date1                         0.000185\n",
       "Completed Date1                      0.000000\n",
       "First Construction Document Date1    0.000412\n",
       "Permit Expiration Date1              0.000330\n",
       "dtype: float64"
      ]
     },
     "execution_count": 27,
     "metadata": {},
     "output_type": "execute_result"
    }
   ],
   "source": [
    "data2[datedate].isnull().mean()"
   ]
  },
  {
   "cell_type": "markdown",
   "metadata": {},
   "source": [
    "## 日期缺失值的填补"
   ]
  },
  {
   "cell_type": "markdown",
   "metadata": {},
   "source": [
    "用Permit Creation Date1插补Issued Date1的缺失值\n",
    "\n",
    "用Issued Date1插补First Construction Document Date1的缺失值\n"
   ]
  },
  {
   "cell_type": "code",
   "execution_count": 28,
   "metadata": {},
   "outputs": [
    {
     "name": "stderr",
     "output_type": "stream",
     "text": [
      "D:\\ProgramData\\Anaconda3\\lib\\site-packages\\pandas\\core\\generic.py:6130: SettingWithCopyWarning: \n",
      "A value is trying to be set on a copy of a slice from a DataFrame\n",
      "\n",
      "See the caveats in the documentation: http://pandas.pydata.org/pandas-docs/stable/indexing.html#indexing-view-versus-copy\n",
      "  self._update_inplace(new_data)\n"
     ]
    }
   ],
   "source": [
    "data2['Issued Date1'].fillna(data2['Permit Creation Date1'],inplace=True)"
   ]
  },
  {
   "cell_type": "code",
   "execution_count": 29,
   "metadata": {},
   "outputs": [],
   "source": [
    "data2['First Construction Document Date1'].fillna(data2['Issued Date1'],inplace=True)"
   ]
  },
  {
   "cell_type": "markdown",
   "metadata": {},
   "source": [
    "## 查看填补之后的日期时间变量的缺失比例"
   ]
  },
  {
   "cell_type": "markdown",
   "metadata": {},
   "source": [
    "同学可以继续探索其他填补缺失的办法"
   ]
  },
  {
   "cell_type": "code",
   "execution_count": 30,
   "metadata": {},
   "outputs": [
    {
     "data": {
      "text/plain": [
       "Permit Creation Date1                0.00000\n",
       "Current Status Date1                 0.00000\n",
       "Filed Date1                          0.00000\n",
       "Issued Date1                         0.00000\n",
       "Completed Date1                      0.00000\n",
       "First Construction Document Date1    0.00000\n",
       "Permit Expiration Date1              0.00033\n",
       "dtype: float64"
      ]
     },
     "execution_count": 30,
     "metadata": {},
     "output_type": "execute_result"
    }
   ],
   "source": [
    "data2[datedate].isnull().mean()"
   ]
  },
  {
   "cell_type": "markdown",
   "metadata": {},
   "source": [
    "## 删除原来的字符串日期变量"
   ]
  },
  {
   "cell_type": "code",
   "execution_count": 31,
   "metadata": {
    "scrolled": true
   },
   "outputs": [
    {
     "name": "stderr",
     "output_type": "stream",
     "text": [
      "D:\\ProgramData\\Anaconda3\\lib\\site-packages\\pandas\\core\\frame.py:3940: SettingWithCopyWarning: \n",
      "A value is trying to be set on a copy of a slice from a DataFrame\n",
      "\n",
      "See the caveats in the documentation: http://pandas.pydata.org/pandas-docs/stable/indexing.html#indexing-view-versus-copy\n",
      "  errors=errors)\n"
     ]
    }
   ],
   "source": [
    "data2.drop(columns=strdate,errors='ignore',inplace=True)"
   ]
  },
  {
   "cell_type": "code",
   "execution_count": 32,
   "metadata": {},
   "outputs": [
    {
     "data": {
      "text/html": [
       "<div>\n",
       "<style scoped>\n",
       "    .dataframe tbody tr th:only-of-type {\n",
       "        vertical-align: middle;\n",
       "    }\n",
       "\n",
       "    .dataframe tbody tr th {\n",
       "        vertical-align: top;\n",
       "    }\n",
       "\n",
       "    .dataframe thead th {\n",
       "        text-align: right;\n",
       "    }\n",
       "</style>\n",
       "<table border=\"1\" class=\"dataframe\">\n",
       "  <thead>\n",
       "    <tr style=\"text-align: right;\">\n",
       "      <th></th>\n",
       "      <th>Permit Number</th>\n",
       "      <th>Permit Type</th>\n",
       "      <th>Permit Type Definition</th>\n",
       "      <th>Block</th>\n",
       "      <th>Lot</th>\n",
       "      <th>Street Number</th>\n",
       "      <th>Street Number Suffix</th>\n",
       "      <th>Street Name</th>\n",
       "      <th>Street Suffix</th>\n",
       "      <th>Unit</th>\n",
       "      <th>...</th>\n",
       "      <th>Zipcode</th>\n",
       "      <th>Location</th>\n",
       "      <th>Record ID</th>\n",
       "      <th>Permit Creation Date1</th>\n",
       "      <th>Current Status Date1</th>\n",
       "      <th>Filed Date1</th>\n",
       "      <th>Issued Date1</th>\n",
       "      <th>Completed Date1</th>\n",
       "      <th>First Construction Document Date1</th>\n",
       "      <th>Permit Expiration Date1</th>\n",
       "    </tr>\n",
       "  </thead>\n",
       "  <tbody>\n",
       "    <tr>\n",
       "      <th>484</th>\n",
       "      <td>201301027037</td>\n",
       "      <td>8</td>\n",
       "      <td>otc alterations permit</td>\n",
       "      <td>0697</td>\n",
       "      <td>039</td>\n",
       "      <td>1400</td>\n",
       "      <td>NaN</td>\n",
       "      <td>Geary</td>\n",
       "      <td>Bl</td>\n",
       "      <td>NaN</td>\n",
       "      <td>...</td>\n",
       "      <td>94109.0</td>\n",
       "      <td>(37.785542417311106, -122.42713399675488)</td>\n",
       "      <td>129210879901</td>\n",
       "      <td>2013-01-02</td>\n",
       "      <td>2013-10-15</td>\n",
       "      <td>2013-01-02</td>\n",
       "      <td>2013-01-02</td>\n",
       "      <td>2013-10-15</td>\n",
       "      <td>2013-01-02</td>\n",
       "      <td>2013-12-28</td>\n",
       "    </tr>\n",
       "    <tr>\n",
       "      <th>486</th>\n",
       "      <td>201301027038</td>\n",
       "      <td>8</td>\n",
       "      <td>otc alterations permit</td>\n",
       "      <td>1102</td>\n",
       "      <td>017</td>\n",
       "      <td>1247</td>\n",
       "      <td>NaN</td>\n",
       "      <td>Broderick</td>\n",
       "      <td>St</td>\n",
       "      <td>0.0</td>\n",
       "      <td>...</td>\n",
       "      <td>94115.0</td>\n",
       "      <td>(37.78188510892238, -122.4411253188458)</td>\n",
       "      <td>1292110425763</td>\n",
       "      <td>2013-01-02</td>\n",
       "      <td>2013-02-07</td>\n",
       "      <td>2013-01-02</td>\n",
       "      <td>2013-01-02</td>\n",
       "      <td>2013-02-07</td>\n",
       "      <td>2013-01-02</td>\n",
       "      <td>2013-12-28</td>\n",
       "    </tr>\n",
       "    <tr>\n",
       "      <th>489</th>\n",
       "      <td>201301027039</td>\n",
       "      <td>8</td>\n",
       "      <td>otc alterations permit</td>\n",
       "      <td>1751</td>\n",
       "      <td>010</td>\n",
       "      <td>1289</td>\n",
       "      <td>NaN</td>\n",
       "      <td>02nd</td>\n",
       "      <td>Av</td>\n",
       "      <td>0.0</td>\n",
       "      <td>...</td>\n",
       "      <td>94122.0</td>\n",
       "      <td>(37.76451538602564, -122.4591117589727)</td>\n",
       "      <td>1292113396893</td>\n",
       "      <td>2013-01-02</td>\n",
       "      <td>2013-01-25</td>\n",
       "      <td>2013-01-02</td>\n",
       "      <td>2013-01-02</td>\n",
       "      <td>2013-01-25</td>\n",
       "      <td>2013-01-02</td>\n",
       "      <td>2013-12-28</td>\n",
       "    </tr>\n",
       "    <tr>\n",
       "      <th>490</th>\n",
       "      <td>201301027040</td>\n",
       "      <td>8</td>\n",
       "      <td>otc alterations permit</td>\n",
       "      <td>0318</td>\n",
       "      <td>014</td>\n",
       "      <td>500</td>\n",
       "      <td>NaN</td>\n",
       "      <td>Leavenworth</td>\n",
       "      <td>St</td>\n",
       "      <td>NaN</td>\n",
       "      <td>...</td>\n",
       "      <td>94102.0</td>\n",
       "      <td>(37.785819520399485, -122.41442879309835)</td>\n",
       "      <td>129211469420</td>\n",
       "      <td>2013-01-02</td>\n",
       "      <td>2013-03-25</td>\n",
       "      <td>2013-01-02</td>\n",
       "      <td>2013-01-02</td>\n",
       "      <td>2013-03-25</td>\n",
       "      <td>2013-01-02</td>\n",
       "      <td>2013-12-28</td>\n",
       "    </tr>\n",
       "    <tr>\n",
       "      <th>491</th>\n",
       "      <td>201301027041</td>\n",
       "      <td>8</td>\n",
       "      <td>otc alterations permit</td>\n",
       "      <td>0251</td>\n",
       "      <td>012</td>\n",
       "      <td>1262</td>\n",
       "      <td>NaN</td>\n",
       "      <td>Pine</td>\n",
       "      <td>St</td>\n",
       "      <td>NaN</td>\n",
       "      <td>...</td>\n",
       "      <td>94109.0</td>\n",
       "      <td>(37.79039549824972, -122.41662615110641)</td>\n",
       "      <td>1292115272018</td>\n",
       "      <td>2013-01-02</td>\n",
       "      <td>2013-10-02</td>\n",
       "      <td>2013-01-02</td>\n",
       "      <td>2013-01-02</td>\n",
       "      <td>2013-10-02</td>\n",
       "      <td>2013-01-02</td>\n",
       "      <td>2013-12-28</td>\n",
       "    </tr>\n",
       "  </tbody>\n",
       "</table>\n",
       "<p>5 rows × 43 columns</p>\n",
       "</div>"
      ],
      "text/plain": [
       "    Permit Number  Permit Type  Permit Type Definition Block  Lot  \\\n",
       "484  201301027037            8  otc alterations permit  0697  039   \n",
       "486  201301027038            8  otc alterations permit  1102  017   \n",
       "489  201301027039            8  otc alterations permit  1751  010   \n",
       "490  201301027040            8  otc alterations permit  0318  014   \n",
       "491  201301027041            8  otc alterations permit  0251  012   \n",
       "\n",
       "     Street Number Street Number Suffix  Street Name Street Suffix  Unit  ...  \\\n",
       "484           1400                  NaN        Geary            Bl   NaN  ...   \n",
       "486           1247                  NaN    Broderick            St   0.0  ...   \n",
       "489           1289                  NaN         02nd            Av   0.0  ...   \n",
       "490            500                  NaN  Leavenworth            St   NaN  ...   \n",
       "491           1262                  NaN         Pine            St   NaN  ...   \n",
       "\n",
       "     Zipcode                                   Location      Record ID  \\\n",
       "484  94109.0  (37.785542417311106, -122.42713399675488)   129210879901   \n",
       "486  94115.0    (37.78188510892238, -122.4411253188458)  1292110425763   \n",
       "489  94122.0    (37.76451538602564, -122.4591117589727)  1292113396893   \n",
       "490  94102.0  (37.785819520399485, -122.41442879309835)   129211469420   \n",
       "491  94109.0   (37.79039549824972, -122.41662615110641)  1292115272018   \n",
       "\n",
       "    Permit Creation Date1  Current Status Date1  Filed Date1 Issued Date1  \\\n",
       "484            2013-01-02            2013-10-15   2013-01-02   2013-01-02   \n",
       "486            2013-01-02            2013-02-07   2013-01-02   2013-01-02   \n",
       "489            2013-01-02            2013-01-25   2013-01-02   2013-01-02   \n",
       "490            2013-01-02            2013-03-25   2013-01-02   2013-01-02   \n",
       "491            2013-01-02            2013-10-02   2013-01-02   2013-01-02   \n",
       "\n",
       "    Completed Date1  First Construction Document Date1  \\\n",
       "484      2013-10-15                         2013-01-02   \n",
       "486      2013-02-07                         2013-01-02   \n",
       "489      2013-01-25                         2013-01-02   \n",
       "490      2013-03-25                         2013-01-02   \n",
       "491      2013-10-02                         2013-01-02   \n",
       "\n",
       "     Permit Expiration Date1  \n",
       "484               2013-12-28  \n",
       "486               2013-12-28  \n",
       "489               2013-12-28  \n",
       "490               2013-12-28  \n",
       "491               2013-12-28  \n",
       "\n",
       "[5 rows x 43 columns]"
      ]
     },
     "execution_count": 32,
     "metadata": {},
     "output_type": "execute_result"
    }
   ],
   "source": [
    "data2.head()"
   ]
  },
  {
   "cell_type": "markdown",
   "metadata": {},
   "source": [
    "## 日期变量的重命名（将带有后缀1的日期时间变量名字里的后缀1去掉）"
   ]
  },
  {
   "cell_type": "code",
   "execution_count": 33,
   "metadata": {},
   "outputs": [
    {
     "data": {
      "text/plain": [
       "[('Permit Creation Date1', 'Permit Creation Date'),\n",
       " ('Current Status Date1', 'Current Status Date'),\n",
       " ('Filed Date1', 'Filed Date'),\n",
       " ('Issued Date1', 'Issued Date'),\n",
       " ('Completed Date1', 'Completed Date'),\n",
       " ('First Construction Document Date1', 'First Construction Document Date'),\n",
       " ('Permit Expiration Date1', 'Permit Expiration Date')]"
      ]
     },
     "execution_count": 33,
     "metadata": {},
     "output_type": "execute_result"
    }
   ],
   "source": [
    "list(zip(datedate,strdate))"
   ]
  },
  {
   "cell_type": "code",
   "execution_count": 34,
   "metadata": {},
   "outputs": [
    {
     "data": {
      "text/plain": [
       "{'Permit Creation Date1': 'Permit Creation Date',\n",
       " 'Current Status Date1': 'Current Status Date',\n",
       " 'Filed Date1': 'Filed Date',\n",
       " 'Issued Date1': 'Issued Date',\n",
       " 'Completed Date1': 'Completed Date',\n",
       " 'First Construction Document Date1': 'First Construction Document Date',\n",
       " 'Permit Expiration Date1': 'Permit Expiration Date'}"
      ]
     },
     "execution_count": 34,
     "metadata": {},
     "output_type": "execute_result"
    }
   ],
   "source": [
    "dict(zip(datedate,strdate))"
   ]
  },
  {
   "cell_type": "code",
   "execution_count": 35,
   "metadata": {},
   "outputs": [
    {
     "name": "stderr",
     "output_type": "stream",
     "text": [
      "D:\\ProgramData\\Anaconda3\\lib\\site-packages\\pandas\\core\\frame.py:4025: SettingWithCopyWarning: \n",
      "A value is trying to be set on a copy of a slice from a DataFrame\n",
      "\n",
      "See the caveats in the documentation: http://pandas.pydata.org/pandas-docs/stable/indexing.html#indexing-view-versus-copy\n",
      "  return super(DataFrame, self).rename(**kwargs)\n"
     ]
    }
   ],
   "source": [
    "data2.rename(columns=dict(zip(datedate,strdate)),inplace=True)"
   ]
  },
  {
   "cell_type": "markdown",
   "metadata": {},
   "source": [
    "## 计算日期时间差——天数"
   ]
  },
  {
   "cell_type": "markdown",
   "metadata": {},
   "source": [
    "计算变量Current Status Date与Permit Creation Date之间的天数，将这个变量命名为ddate"
   ]
  },
  {
   "cell_type": "code",
   "execution_count": 36,
   "metadata": {},
   "outputs": [
    {
     "name": "stderr",
     "output_type": "stream",
     "text": [
      "D:\\ProgramData\\Anaconda3\\lib\\site-packages\\ipykernel_launcher.py:1: SettingWithCopyWarning: \n",
      "A value is trying to be set on a copy of a slice from a DataFrame.\n",
      "Try using .loc[row_indexer,col_indexer] = value instead\n",
      "\n",
      "See the caveats in the documentation: http://pandas.pydata.org/pandas-docs/stable/indexing.html#indexing-view-versus-copy\n",
      "  \"\"\"Entry point for launching an IPython kernel.\n"
     ]
    },
    {
     "data": {
      "text/plain": [
       "484   286 days\n",
       "486    36 days\n",
       "489    23 days\n",
       "490    82 days\n",
       "491   273 days\n",
       "Name: ddate, dtype: timedelta64[ns]"
      ]
     },
     "execution_count": 36,
     "metadata": {},
     "output_type": "execute_result"
    }
   ],
   "source": [
    "data2['ddate']=data2['Current Status Date'] - data2['Permit Creation Date']\n",
    "data2['ddate'].head()"
   ]
  },
  {
   "cell_type": "code",
   "execution_count": 37,
   "metadata": {},
   "outputs": [
    {
     "data": {
      "text/plain": [
       "pandas.core.series.Series"
      ]
     },
     "execution_count": 37,
     "metadata": {},
     "output_type": "execute_result"
    }
   ],
   "source": [
    "type(data2['ddate'])"
   ]
  },
  {
   "cell_type": "code",
   "execution_count": 38,
   "metadata": {},
   "outputs": [
    {
     "name": "stderr",
     "output_type": "stream",
     "text": [
      "D:\\ProgramData\\Anaconda3\\lib\\site-packages\\ipykernel_launcher.py:1: SettingWithCopyWarning: \n",
      "A value is trying to be set on a copy of a slice from a DataFrame.\n",
      "Try using .loc[row_indexer,col_indexer] = value instead\n",
      "\n",
      "See the caveats in the documentation: http://pandas.pydata.org/pandas-docs/stable/indexing.html#indexing-view-versus-copy\n",
      "  \"\"\"Entry point for launching an IPython kernel.\n"
     ]
    }
   ],
   "source": [
    "data2['ddate']=data2['ddate'].dt.days"
   ]
  },
  {
   "cell_type": "code",
   "execution_count": 39,
   "metadata": {},
   "outputs": [
    {
     "data": {
      "text/plain": [
       "484    286\n",
       "486     36\n",
       "489     23\n",
       "490     82\n",
       "491    273\n",
       "Name: ddate, dtype: int64"
      ]
     },
     "execution_count": 39,
     "metadata": {},
     "output_type": "execute_result"
    }
   ],
   "source": [
    "data2['ddate'].head()"
   ]
  },
  {
   "cell_type": "markdown",
   "metadata": {},
   "source": [
    "## 将Permit Creation Date变量里面的年份调出来存为year变量"
   ]
  },
  {
   "cell_type": "code",
   "execution_count": 40,
   "metadata": {},
   "outputs": [
    {
     "name": "stderr",
     "output_type": "stream",
     "text": [
      "D:\\ProgramData\\Anaconda3\\lib\\site-packages\\ipykernel_launcher.py:1: SettingWithCopyWarning: \n",
      "A value is trying to be set on a copy of a slice from a DataFrame.\n",
      "Try using .loc[row_indexer,col_indexer] = value instead\n",
      "\n",
      "See the caveats in the documentation: http://pandas.pydata.org/pandas-docs/stable/indexing.html#indexing-view-versus-copy\n",
      "  \"\"\"Entry point for launching an IPython kernel.\n"
     ]
    }
   ],
   "source": [
    "data2[\"year\"]=data2['Permit Creation Date'].dt.year"
   ]
  },
  {
   "cell_type": "code",
   "execution_count": 41,
   "metadata": {},
   "outputs": [
    {
     "data": {
      "text/plain": [
       "484    2013\n",
       "486    2013\n",
       "489    2013\n",
       "490    2013\n",
       "491    2013\n",
       "Name: year, dtype: int64"
      ]
     },
     "execution_count": 41,
     "metadata": {},
     "output_type": "execute_result"
    }
   ],
   "source": [
    "data2.year.head()"
   ]
  },
  {
   "cell_type": "markdown",
   "metadata": {},
   "source": [
    "## 将Permit Creation Date变量转化成年月格式格式，并存为ym"
   ]
  },
  {
   "cell_type": "code",
   "execution_count": 42,
   "metadata": {},
   "outputs": [
    {
     "name": "stderr",
     "output_type": "stream",
     "text": [
      "D:\\ProgramData\\Anaconda3\\lib\\site-packages\\ipykernel_launcher.py:1: SettingWithCopyWarning: \n",
      "A value is trying to be set on a copy of a slice from a DataFrame.\n",
      "Try using .loc[row_indexer,col_indexer] = value instead\n",
      "\n",
      "See the caveats in the documentation: http://pandas.pydata.org/pandas-docs/stable/indexing.html#indexing-view-versus-copy\n",
      "  \"\"\"Entry point for launching an IPython kernel.\n"
     ]
    }
   ],
   "source": [
    "data2['ym']=data2['Permit Creation Date'].dt.to_period(freq='M')"
   ]
  },
  {
   "cell_type": "code",
   "execution_count": 43,
   "metadata": {},
   "outputs": [
    {
     "data": {
      "text/plain": [
       "484    2013-01\n",
       "486    2013-01\n",
       "489    2013-01\n",
       "490    2013-01\n",
       "491    2013-01\n",
       "Name: ym, dtype: period[M]"
      ]
     },
     "execution_count": 43,
     "metadata": {},
     "output_type": "execute_result"
    }
   ],
   "source": [
    "data2.ym.head()"
   ]
  },
  {
   "cell_type": "markdown",
   "metadata": {},
   "source": [
    "## 根据year变量进行分组统计，统计有多少个观测值，返回的序列存为temp1"
   ]
  },
  {
   "cell_type": "code",
   "execution_count": 44,
   "metadata": {},
   "outputs": [],
   "source": [
    "temp1=data2['Permit Number'].groupby(data2['year']).count()"
   ]
  },
  {
   "cell_type": "code",
   "execution_count": 45,
   "metadata": {},
   "outputs": [
    {
     "data": {
      "text/plain": [
       "year\n",
       "2012       21\n",
       "2013    21069\n",
       "2014    21229\n",
       "2015    21665\n",
       "2016    19293\n",
       "2017    13376\n",
       "2018      424\n",
       "Name: Permit Number, dtype: int64"
      ]
     },
     "execution_count": 45,
     "metadata": {},
     "output_type": "execute_result"
    }
   ],
   "source": [
    "temp1"
   ]
  },
  {
   "cell_type": "markdown",
   "metadata": {},
   "source": [
    "## 根据ym变量进行分组统计，统计有多少个观测值，返回的序列存为temp2"
   ]
  },
  {
   "cell_type": "code",
   "execution_count": 46,
   "metadata": {},
   "outputs": [],
   "source": [
    "temp2=data2['Permit Number'].groupby(data2['ym']).count()"
   ]
  },
  {
   "cell_type": "code",
   "execution_count": 47,
   "metadata": {},
   "outputs": [
    {
     "data": {
      "text/plain": [
       "ym\n",
       "2012-03       4\n",
       "2012-09      17\n",
       "2013-01    1688\n",
       "2013-02    1494\n",
       "2013-03    1702\n",
       "2013-04    1723\n",
       "2013-05    1944\n",
       "2013-06    1722\n",
       "2013-07    1809\n",
       "2013-08    1826\n",
       "2013-09    1742\n",
       "2013-10    1979\n",
       "2013-11    1684\n",
       "2013-12    1756\n",
       "2014-01    1636\n",
       "2014-02    1491\n",
       "2014-03    1813\n",
       "2014-04    1855\n",
       "2014-05    1949\n",
       "2014-06    2137\n",
       "2014-07    1901\n",
       "2014-08    1696\n",
       "2014-09    1781\n",
       "2014-10    1978\n",
       "2014-11    1527\n",
       "2014-12    1465\n",
       "2015-01    1625\n",
       "2015-02    1771\n",
       "2015-03    1934\n",
       "2015-04    2016\n",
       "           ... \n",
       "2015-09    1868\n",
       "2015-10    1862\n",
       "2015-11    1591\n",
       "2015-12    1562\n",
       "2016-01    1433\n",
       "2016-02    1738\n",
       "2016-03    1953\n",
       "2016-04    1715\n",
       "2016-05    1774\n",
       "2016-06    1703\n",
       "2016-07    1507\n",
       "2016-08    1768\n",
       "2016-09    1654\n",
       "2016-10    1408\n",
       "2016-11    1319\n",
       "2016-12    1321\n",
       "2017-01    1169\n",
       "2017-02    1200\n",
       "2017-03    1521\n",
       "2017-04    1236\n",
       "2017-05    1466\n",
       "2017-06    1345\n",
       "2017-07    1114\n",
       "2017-08    1283\n",
       "2017-09     971\n",
       "2017-10     961\n",
       "2017-11     634\n",
       "2017-12     476\n",
       "2018-01     349\n",
       "2018-02      75\n",
       "Freq: M, Name: Permit Number, Length: 64, dtype: int64"
      ]
     },
     "execution_count": 47,
     "metadata": {},
     "output_type": "execute_result"
    }
   ],
   "source": [
    "temp2"
   ]
  },
  {
   "cell_type": "markdown",
   "metadata": {},
   "source": [
    "## 画折线图"
   ]
  },
  {
   "cell_type": "code",
   "execution_count": 48,
   "metadata": {},
   "outputs": [],
   "source": [
    "#根据temp1画2012-2018年的折线图\n",
    "#根据temp2画2013-2015年的折线图"
   ]
  },
  {
   "cell_type": "code",
   "execution_count": 49,
   "metadata": {},
   "outputs": [
    {
     "data": {
      "text/plain": [
       "<matplotlib.axes._subplots.AxesSubplot at 0x227d760bd68>"
      ]
     },
     "execution_count": 49,
     "metadata": {},
     "output_type": "execute_result"
    },
    {
     "data": {
      "image/png": "[encoded data removed]",
      "text/plain": [
       "<Figure size 1080x504 with 2 Axes>"
      ]
     },
     "metadata": {
      "needs_background": "light"
     },
     "output_type": "display_data"
    }
   ],
   "source": [
    "fig,axes=plt.subplots(1,2,figsize=(15,7))\n",
    "temp1[(temp1.index>=2012) & (temp1.index<=2018)].plot(ax=axes[0])\n",
    "temp2[(temp2.index>=2013) & (temp2.index<=2015)].plot(ax=axes[1])\n"
   ]
  },
  {
   "cell_type": "code",
   "execution_count": 50,
   "metadata": {},
   "outputs": [],
   "source": [
    "#可以看到数据呈现出一些季节特征。"
   ]
  },
  {
   "cell_type": "markdown",
   "metadata": {},
   "source": [
    "## 数值变量的描述统计"
   ]
  },
  {
   "cell_type": "markdown",
   "metadata": {},
   "source": [
    "数值变量有两个一个是\"Estimated Cost\"，一个是\"Revised Cost\""
   ]
  },
  {
   "cell_type": "code",
   "execution_count": 51,
   "metadata": {},
   "outputs": [],
   "source": [
    "#对这两个变量进行描述性统计,并查看其0.1-0.9的分位数·"
   ]
  },
  {
   "cell_type": "code",
   "execution_count": 52,
   "metadata": {},
   "outputs": [
    {
     "data": {
      "text/html": [
       "<div>\n",
       "<style scoped>\n",
       "    .dataframe tbody tr th:only-of-type {\n",
       "        vertical-align: middle;\n",
       "    }\n",
       "\n",
       "    .dataframe tbody tr th {\n",
       "        vertical-align: top;\n",
       "    }\n",
       "\n",
       "    .dataframe thead th {\n",
       "        text-align: right;\n",
       "    }\n",
       "</style>\n",
       "<table border=\"1\" class=\"dataframe\">\n",
       "  <thead>\n",
       "    <tr style=\"text-align: right;\">\n",
       "      <th></th>\n",
       "      <th>Estimated Cost</th>\n",
       "      <th>Revised Cost</th>\n",
       "    </tr>\n",
       "  </thead>\n",
       "  <tbody>\n",
       "    <tr>\n",
       "      <th>count</th>\n",
       "      <td>9.698500e+04</td>\n",
       "      <td>9.707400e+04</td>\n",
       "    </tr>\n",
       "    <tr>\n",
       "      <th>mean</th>\n",
       "      <td>7.409378e+04</td>\n",
       "      <td>8.441542e+04</td>\n",
       "    </tr>\n",
       "    <tr>\n",
       "      <th>std</th>\n",
       "      <td>9.847948e+05</td>\n",
       "      <td>1.003713e+06</td>\n",
       "    </tr>\n",
       "    <tr>\n",
       "      <th>min</th>\n",
       "      <td>1.000000e+00</td>\n",
       "      <td>0.000000e+00</td>\n",
       "    </tr>\n",
       "    <tr>\n",
       "      <th>10%</th>\n",
       "      <td>1.000000e+00</td>\n",
       "      <td>1.000000e+00</td>\n",
       "    </tr>\n",
       "    <tr>\n",
       "      <th>20%</th>\n",
       "      <td>2.000000e+03</td>\n",
       "      <td>2.500000e+03</td>\n",
       "    </tr>\n",
       "    <tr>\n",
       "      <th>30.0%</th>\n",
       "      <td>4.800000e+03</td>\n",
       "      <td>5.000000e+03</td>\n",
       "    </tr>\n",
       "    <tr>\n",
       "      <th>40%</th>\n",
       "      <td>7.453800e+03</td>\n",
       "      <td>8.000000e+03</td>\n",
       "    </tr>\n",
       "    <tr>\n",
       "      <th>50%</th>\n",
       "      <td>1.000000e+04</td>\n",
       "      <td>1.200000e+04</td>\n",
       "    </tr>\n",
       "    <tr>\n",
       "      <th>60%</th>\n",
       "      <td>1.500000e+04</td>\n",
       "      <td>1.840000e+04</td>\n",
       "    </tr>\n",
       "    <tr>\n",
       "      <th>70%</th>\n",
       "      <td>2.400000e+04</td>\n",
       "      <td>2.810350e+04</td>\n",
       "    </tr>\n",
       "    <tr>\n",
       "      <th>80%</th>\n",
       "      <td>4.000000e+04</td>\n",
       "      <td>5.000000e+04</td>\n",
       "    </tr>\n",
       "    <tr>\n",
       "      <th>90%</th>\n",
       "      <td>8.700000e+04</td>\n",
       "      <td>1.053260e+05</td>\n",
       "    </tr>\n",
       "    <tr>\n",
       "      <th>max</th>\n",
       "      <td>1.310883e+08</td>\n",
       "      <td>1.310883e+08</td>\n",
       "    </tr>\n",
       "  </tbody>\n",
       "</table>\n",
       "</div>"
      ],
      "text/plain": [
       "       Estimated Cost  Revised Cost\n",
       "count    9.698500e+04  9.707400e+04\n",
       "mean     7.409378e+04  8.441542e+04\n",
       "std      9.847948e+05  1.003713e+06\n",
       "min      1.000000e+00  0.000000e+00\n",
       "10%      1.000000e+00  1.000000e+00\n",
       "20%      2.000000e+03  2.500000e+03\n",
       "30.0%    4.800000e+03  5.000000e+03\n",
       "40%      7.453800e+03  8.000000e+03\n",
       "50%      1.000000e+04  1.200000e+04\n",
       "60%      1.500000e+04  1.840000e+04\n",
       "70%      2.400000e+04  2.810350e+04\n",
       "80%      4.000000e+04  5.000000e+04\n",
       "90%      8.700000e+04  1.053260e+05\n",
       "max      1.310883e+08  1.310883e+08"
      ]
     },
     "execution_count": 52,
     "metadata": {},
     "output_type": "execute_result"
    }
   ],
   "source": [
    "data2[['Estimated Cost','Revised Cost']].describe(percentiles=np.arange(0.1,1,0.1))"
   ]
  },
  {
   "cell_type": "code",
   "execution_count": 53,
   "metadata": {},
   "outputs": [],
   "source": [
    "#对变量进行描述统计\n",
    "#可以看出数据变异比较大。"
   ]
  },
  {
   "cell_type": "markdown",
   "metadata": {},
   "source": [
    "## 统计两个数值变量的缺失比例"
   ]
  },
  {
   "cell_type": "code",
   "execution_count": 54,
   "metadata": {},
   "outputs": [
    {
     "data": {
      "text/plain": [
       "Estimated Cost    0.000948\n",
       "Revised Cost      0.000031\n",
       "dtype: float64"
      ]
     },
     "execution_count": 54,
     "metadata": {},
     "output_type": "execute_result"
    }
   ],
   "source": [
    "#察看一下变量的缺失情况\n",
    "data2[['Estimated Cost','Revised Cost']].isnull().mean()"
   ]
  },
  {
   "cell_type": "markdown",
   "metadata": {},
   "source": [
    "## 求变量Estimated Cost的0.1,0.2,0.3,0.4。。。0.9的分位数"
   ]
  },
  {
   "cell_type": "code",
   "execution_count": null,
   "metadata": {},
   "outputs": [],
   "source": [
    "#可以看到这个变量的变异比较大。"
   ]
  },
  {
   "cell_type": "code",
   "execution_count": 55,
   "metadata": {},
   "outputs": [
    {
     "data": {
      "text/plain": [
       "count    9.698500e+04\n",
       "mean     7.409378e+04\n",
       "std      9.847948e+05\n",
       "min      1.000000e+00\n",
       "10%      1.000000e+00\n",
       "20%      2.000000e+03\n",
       "30.0%    4.800000e+03\n",
       "40%      7.453800e+03\n",
       "50%      1.000000e+04\n",
       "60%      1.500000e+04\n",
       "70%      2.400000e+04\n",
       "80%      4.000000e+04\n",
       "90%      8.700000e+04\n",
       "max      1.310883e+08\n",
       "Name: Estimated Cost, dtype: float64"
      ]
     },
     "execution_count": 55,
     "metadata": {},
     "output_type": "execute_result"
    }
   ],
   "source": [
    "data2['Estimated Cost'].describe(percentiles=np.arange(0.1,1,0.1))"
   ]
  },
  {
   "cell_type": "markdown",
   "metadata": {},
   "source": [
    "## 数值变量的插补"
   ]
  },
  {
   "cell_type": "markdown",
   "metadata": {},
   "source": [
    "用Revised Cost填充Estimated Cost的缺失值\n",
    "\n",
    "\n",
    "用Estimated Cost填充Revised Cost的缺失值"
   ]
  },
  {
   "cell_type": "code",
   "execution_count": 56,
   "metadata": {},
   "outputs": [
    {
     "name": "stderr",
     "output_type": "stream",
     "text": [
      "D:\\ProgramData\\Anaconda3\\lib\\site-packages\\pandas\\core\\generic.py:6130: SettingWithCopyWarning: \n",
      "A value is trying to be set on a copy of a slice from a DataFrame\n",
      "\n",
      "See the caveats in the documentation: http://pandas.pydata.org/pandas-docs/stable/indexing.html#indexing-view-versus-copy\n",
      "  self._update_inplace(new_data)\n"
     ]
    }
   ],
   "source": [
    "data2['Estimated Cost'].fillna(data2['Revised Cost'],inplace=True)"
   ]
  },
  {
   "cell_type": "code",
   "execution_count": 57,
   "metadata": {},
   "outputs": [],
   "source": [
    "data2['Revised Cost'].fillna(data2['Estimated Cost'],inplace=True)"
   ]
  },
  {
   "cell_type": "markdown",
   "metadata": {},
   "source": [
    "## 再次计算插补之后的两个数值变量的缺失值比例"
   ]
  },
  {
   "cell_type": "code",
   "execution_count": 58,
   "metadata": {},
   "outputs": [
    {
     "data": {
      "text/plain": [
       "'我们可以用均值和中位数方法填补缺失值，但是考虑到数据量比较大\\n，我们可以不进行填补。'"
      ]
     },
     "execution_count": 58,
     "metadata": {},
     "output_type": "execute_result"
    }
   ],
   "source": [
    "#可以看到差补之后两个变量的缺失值比例都下降了。\n",
    "'''我们可以用均值和中位数方法填补缺失值，但是考虑到数据量比较大\n",
    "，我们可以不进行填补。'''"
   ]
  },
  {
   "cell_type": "code",
   "execution_count": 59,
   "metadata": {},
   "outputs": [
    {
     "data": {
      "text/plain": [
       "Estimated Cost    0.000021\n",
       "Revised Cost      0.000021\n",
       "dtype: float64"
      ]
     },
     "execution_count": 59,
     "metadata": {},
     "output_type": "execute_result"
    }
   ],
   "source": [
    "data2[['Estimated Cost','Revised Cost']].isnull().mean()"
   ]
  },
  {
   "cell_type": "markdown",
   "metadata": {},
   "source": [
    "## 按照数值变量Revised Cost对数据进行升序排序，并且直接作用于数据框data2"
   ]
  },
  {
   "cell_type": "code",
   "execution_count": 60,
   "metadata": {},
   "outputs": [
    {
     "name": "stderr",
     "output_type": "stream",
     "text": [
      "D:\\ProgramData\\Anaconda3\\lib\\site-packages\\ipykernel_launcher.py:1: SettingWithCopyWarning: \n",
      "A value is trying to be set on a copy of a slice from a DataFrame\n",
      "\n",
      "See the caveats in the documentation: http://pandas.pydata.org/pandas-docs/stable/indexing.html#indexing-view-versus-copy\n",
      "  \"\"\"Entry point for launching an IPython kernel.\n"
     ]
    }
   ],
   "source": [
    "data2.sort_values(by=['Revised Cost'],inplace=True)"
   ]
  },
  {
   "cell_type": "code",
   "execution_count": 61,
   "metadata": {},
   "outputs": [
    {
     "data": {
      "text/html": [
       "<div>\n",
       "<style scoped>\n",
       "    .dataframe tbody tr th:only-of-type {\n",
       "        vertical-align: middle;\n",
       "    }\n",
       "\n",
       "    .dataframe tbody tr th {\n",
       "        vertical-align: top;\n",
       "    }\n",
       "\n",
       "    .dataframe thead th {\n",
       "        text-align: right;\n",
       "    }\n",
       "</style>\n",
       "<table border=\"1\" class=\"dataframe\">\n",
       "  <thead>\n",
       "    <tr style=\"text-align: right;\">\n",
       "      <th></th>\n",
       "      <th>Permit Number</th>\n",
       "      <th>Permit Type</th>\n",
       "      <th>Permit Type Definition</th>\n",
       "      <th>Block</th>\n",
       "      <th>Lot</th>\n",
       "      <th>Street Number</th>\n",
       "      <th>Street Number Suffix</th>\n",
       "      <th>Street Name</th>\n",
       "      <th>Street Suffix</th>\n",
       "      <th>Unit</th>\n",
       "      <th>...</th>\n",
       "      <th>Permit Creation Date</th>\n",
       "      <th>Current Status Date</th>\n",
       "      <th>Filed Date</th>\n",
       "      <th>Issued Date</th>\n",
       "      <th>Completed Date</th>\n",
       "      <th>First Construction Document Date</th>\n",
       "      <th>Permit Expiration Date</th>\n",
       "      <th>ddate</th>\n",
       "      <th>year</th>\n",
       "      <th>ym</th>\n",
       "    </tr>\n",
       "  </thead>\n",
       "  <tbody>\n",
       "    <tr>\n",
       "      <th>135040</th>\n",
       "      <td>201608296261</td>\n",
       "      <td>8</td>\n",
       "      <td>otc alterations permit</td>\n",
       "      <td>1047</td>\n",
       "      <td>033</td>\n",
       "      <td>2951</td>\n",
       "      <td>NaN</td>\n",
       "      <td>Pine</td>\n",
       "      <td>St</td>\n",
       "      <td>NaN</td>\n",
       "      <td>...</td>\n",
       "      <td>2016-08-29</td>\n",
       "      <td>2016-12-23</td>\n",
       "      <td>2016-08-29</td>\n",
       "      <td>2016-08-29</td>\n",
       "      <td>2016-12-23</td>\n",
       "      <td>2016-08-29</td>\n",
       "      <td>NaT</td>\n",
       "      <td>116</td>\n",
       "      <td>2016</td>\n",
       "      <td>2016-08</td>\n",
       "    </tr>\n",
       "    <tr>\n",
       "      <th>25168</th>\n",
       "      <td>201309187110</td>\n",
       "      <td>8</td>\n",
       "      <td>otc alterations permit</td>\n",
       "      <td>3722</td>\n",
       "      <td>073</td>\n",
       "      <td>101</td>\n",
       "      <td>NaN</td>\n",
       "      <td>New Montgomery</td>\n",
       "      <td>St</td>\n",
       "      <td>NaN</td>\n",
       "      <td>...</td>\n",
       "      <td>2013-09-18</td>\n",
       "      <td>2013-10-15</td>\n",
       "      <td>2013-09-18</td>\n",
       "      <td>2013-09-18</td>\n",
       "      <td>2013-10-15</td>\n",
       "      <td>2013-09-18</td>\n",
       "      <td>2014-09-13</td>\n",
       "      <td>27</td>\n",
       "      <td>2013</td>\n",
       "      <td>2013-09</td>\n",
       "    </tr>\n",
       "    <tr>\n",
       "      <th>113536</th>\n",
       "      <td>201602058930</td>\n",
       "      <td>8</td>\n",
       "      <td>otc alterations permit</td>\n",
       "      <td>3785</td>\n",
       "      <td>002A</td>\n",
       "      <td>410</td>\n",
       "      <td>NaN</td>\n",
       "      <td>Townsend</td>\n",
       "      <td>St</td>\n",
       "      <td>NaN</td>\n",
       "      <td>...</td>\n",
       "      <td>2016-02-05</td>\n",
       "      <td>2016-06-03</td>\n",
       "      <td>2016-02-05</td>\n",
       "      <td>2016-03-25</td>\n",
       "      <td>2016-06-03</td>\n",
       "      <td>2016-03-25</td>\n",
       "      <td>2017-03-20</td>\n",
       "      <td>119</td>\n",
       "      <td>2016</td>\n",
       "      <td>2016-02</td>\n",
       "    </tr>\n",
       "    <tr>\n",
       "      <th>178091</th>\n",
       "      <td>201707172069</td>\n",
       "      <td>8</td>\n",
       "      <td>otc alterations permit</td>\n",
       "      <td>0351</td>\n",
       "      <td>001</td>\n",
       "      <td>1100</td>\n",
       "      <td>NaN</td>\n",
       "      <td>Market</td>\n",
       "      <td>St</td>\n",
       "      <td>NaN</td>\n",
       "      <td>...</td>\n",
       "      <td>2017-07-17</td>\n",
       "      <td>2017-10-24</td>\n",
       "      <td>2017-07-17</td>\n",
       "      <td>2017-07-17</td>\n",
       "      <td>2017-10-24</td>\n",
       "      <td>2017-07-17</td>\n",
       "      <td>NaT</td>\n",
       "      <td>99</td>\n",
       "      <td>2017</td>\n",
       "      <td>2017-07</td>\n",
       "    </tr>\n",
       "    <tr>\n",
       "      <th>99980</th>\n",
       "      <td>201509247928</td>\n",
       "      <td>8</td>\n",
       "      <td>otc alterations permit</td>\n",
       "      <td>2654</td>\n",
       "      <td>029</td>\n",
       "      <td>43</td>\n",
       "      <td>NaN</td>\n",
       "      <td>Uranus</td>\n",
       "      <td>Tr</td>\n",
       "      <td>NaN</td>\n",
       "      <td>...</td>\n",
       "      <td>2015-09-24</td>\n",
       "      <td>2016-04-27</td>\n",
       "      <td>2015-09-24</td>\n",
       "      <td>2015-09-24</td>\n",
       "      <td>2016-04-27</td>\n",
       "      <td>2015-09-24</td>\n",
       "      <td>NaT</td>\n",
       "      <td>216</td>\n",
       "      <td>2015</td>\n",
       "      <td>2015-09</td>\n",
       "    </tr>\n",
       "  </tbody>\n",
       "</table>\n",
       "<p>5 rows × 46 columns</p>\n",
       "</div>"
      ],
      "text/plain": [
       "       Permit Number  Permit Type  Permit Type Definition Block   Lot  \\\n",
       "135040  201608296261            8  otc alterations permit  1047   033   \n",
       "25168   201309187110            8  otc alterations permit  3722   073   \n",
       "113536  201602058930            8  otc alterations permit  3785  002A   \n",
       "178091  201707172069            8  otc alterations permit  0351   001   \n",
       "99980   201509247928            8  otc alterations permit  2654   029   \n",
       "\n",
       "        Street Number Street Number Suffix     Street Name Street Suffix  \\\n",
       "135040           2951                  NaN            Pine            St   \n",
       "25168             101                  NaN  New Montgomery            St   \n",
       "113536            410                  NaN        Townsend            St   \n",
       "178091           1100                  NaN          Market            St   \n",
       "99980              43                  NaN          Uranus            Tr   \n",
       "\n",
       "        Unit  ... Permit Creation Date Current Status Date Filed Date  \\\n",
       "135040   NaN  ...           2016-08-29          2016-12-23 2016-08-29   \n",
       "25168    NaN  ...           2013-09-18          2013-10-15 2013-09-18   \n",
       "113536   NaN  ...           2016-02-05          2016-06-03 2016-02-05   \n",
       "178091   NaN  ...           2017-07-17          2017-10-24 2017-07-17   \n",
       "99980    NaN  ...           2015-09-24          2016-04-27 2015-09-24   \n",
       "\n",
       "       Issued Date  Completed Date  First Construction Document Date  \\\n",
       "135040  2016-08-29      2016-12-23                        2016-08-29   \n",
       "25168   2013-09-18      2013-10-15                        2013-09-18   \n",
       "113536  2016-03-25      2016-06-03                        2016-03-25   \n",
       "178091  2017-07-17      2017-10-24                        2017-07-17   \n",
       "99980   2015-09-24      2016-04-27                        2015-09-24   \n",
       "\n",
       "       Permit Expiration Date ddate  year       ym  \n",
       "135040                    NaT   116  2016  2016-08  \n",
       "25168              2014-09-13    27  2013  2013-09  \n",
       "113536             2017-03-20   119  2016  2016-02  \n",
       "178091                    NaT    99  2017  2017-07  \n",
       "99980                     NaT   216  2015  2015-09  \n",
       "\n",
       "[5 rows x 46 columns]"
      ]
     },
     "execution_count": 61,
     "metadata": {},
     "output_type": "execute_result"
    }
   ],
   "source": [
    "data2.head()"
   ]
  },
  {
   "cell_type": "markdown",
   "metadata": {},
   "source": [
    "## 数值变量的对数化处理"
   ]
  },
  {
   "cell_type": "code",
   "execution_count": 62,
   "metadata": {},
   "outputs": [],
   "source": [
    "import math"
   ]
  },
  {
   "cell_type": "code",
   "execution_count": 63,
   "metadata": {},
   "outputs": [
    {
     "name": "stderr",
     "output_type": "stream",
     "text": [
      "D:\\ProgramData\\Anaconda3\\lib\\site-packages\\ipykernel_launcher.py:1: SettingWithCopyWarning: \n",
      "A value is trying to be set on a copy of a slice from a DataFrame.\n",
      "Try using .loc[row_indexer,col_indexer] = value instead\n",
      "\n",
      "See the caveats in the documentation: http://pandas.pydata.org/pandas-docs/stable/indexing.html#indexing-view-versus-copy\n",
      "  \"\"\"Entry point for launching an IPython kernel.\n"
     ]
    }
   ],
   "source": [
    "data2['logrc']=data2['Revised Cost'].map(lambda x: math.log(x) if x >0 else np.nan)\n"
   ]
  },
  {
   "cell_type": "code",
   "execution_count": null,
   "metadata": {},
   "outputs": [],
   "source": []
  },
  {
   "cell_type": "markdown",
   "metadata": {},
   "source": [
    "将变量Revised Cost进行对数化处理之后保存为logrc变量"
   ]
  },
  {
   "cell_type": "markdown",
   "metadata": {},
   "source": [
    "## 画变量logrc的直方图"
   ]
  },
  {
   "cell_type": "code",
   "execution_count": 64,
   "metadata": {},
   "outputs": [
    {
     "data": {
      "text/plain": [
       "<matplotlib.axes._subplots.AxesSubplot at 0x227d7d83860>"
      ]
     },
     "execution_count": 64,
     "metadata": {},
     "output_type": "execute_result"
    },
    {
     "data": {
      "image/png": "[encoded data removed]",
      "text/plain": [
       "<Figure size 432x288 with 1 Axes>"
      ]
     },
     "metadata": {
      "needs_background": "light"
     },
     "output_type": "display_data"
    }
   ],
   "source": [
    "data2.logrc.plot.hist()"
   ]
  },
  {
   "cell_type": "markdown",
   "metadata": {},
   "source": [
    "## 对数据进行重新索引\n",
    "将data2数据框的索引变成一列，并且直接作用于原数据框"
   ]
  },
  {
   "cell_type": "code",
   "execution_count": 65,
   "metadata": {},
   "outputs": [
    {
     "data": {
      "text/html": [
       "<div>\n",
       "<style scoped>\n",
       "    .dataframe tbody tr th:only-of-type {\n",
       "        vertical-align: middle;\n",
       "    }\n",
       "\n",
       "    .dataframe tbody tr th {\n",
       "        vertical-align: top;\n",
       "    }\n",
       "\n",
       "    .dataframe thead th {\n",
       "        text-align: right;\n",
       "    }\n",
       "</style>\n",
       "<table border=\"1\" class=\"dataframe\">\n",
       "  <thead>\n",
       "    <tr style=\"text-align: right;\">\n",
       "      <th></th>\n",
       "      <th>index</th>\n",
       "      <th>Permit Number</th>\n",
       "      <th>Permit Type</th>\n",
       "      <th>Permit Type Definition</th>\n",
       "      <th>Block</th>\n",
       "      <th>Lot</th>\n",
       "      <th>Street Number</th>\n",
       "      <th>Street Number Suffix</th>\n",
       "      <th>Street Name</th>\n",
       "      <th>Street Suffix</th>\n",
       "      <th>...</th>\n",
       "      <th>Current Status Date</th>\n",
       "      <th>Filed Date</th>\n",
       "      <th>Issued Date</th>\n",
       "      <th>Completed Date</th>\n",
       "      <th>First Construction Document Date</th>\n",
       "      <th>Permit Expiration Date</th>\n",
       "      <th>ddate</th>\n",
       "      <th>year</th>\n",
       "      <th>ym</th>\n",
       "      <th>logrc</th>\n",
       "    </tr>\n",
       "  </thead>\n",
       "  <tbody>\n",
       "    <tr>\n",
       "      <th>0</th>\n",
       "      <td>135040</td>\n",
       "      <td>201608296261</td>\n",
       "      <td>8</td>\n",
       "      <td>otc alterations permit</td>\n",
       "      <td>1047</td>\n",
       "      <td>033</td>\n",
       "      <td>2951</td>\n",
       "      <td>NaN</td>\n",
       "      <td>Pine</td>\n",
       "      <td>St</td>\n",
       "      <td>...</td>\n",
       "      <td>2016-12-23</td>\n",
       "      <td>2016-08-29</td>\n",
       "      <td>2016-08-29</td>\n",
       "      <td>2016-12-23</td>\n",
       "      <td>2016-08-29</td>\n",
       "      <td>NaT</td>\n",
       "      <td>116</td>\n",
       "      <td>2016</td>\n",
       "      <td>2016-08</td>\n",
       "      <td>NaN</td>\n",
       "    </tr>\n",
       "    <tr>\n",
       "      <th>1</th>\n",
       "      <td>25168</td>\n",
       "      <td>201309187110</td>\n",
       "      <td>8</td>\n",
       "      <td>otc alterations permit</td>\n",
       "      <td>3722</td>\n",
       "      <td>073</td>\n",
       "      <td>101</td>\n",
       "      <td>NaN</td>\n",
       "      <td>New Montgomery</td>\n",
       "      <td>St</td>\n",
       "      <td>...</td>\n",
       "      <td>2013-10-15</td>\n",
       "      <td>2013-09-18</td>\n",
       "      <td>2013-09-18</td>\n",
       "      <td>2013-10-15</td>\n",
       "      <td>2013-09-18</td>\n",
       "      <td>2014-09-13</td>\n",
       "      <td>27</td>\n",
       "      <td>2013</td>\n",
       "      <td>2013-09</td>\n",
       "      <td>NaN</td>\n",
       "    </tr>\n",
       "    <tr>\n",
       "      <th>2</th>\n",
       "      <td>113536</td>\n",
       "      <td>201602058930</td>\n",
       "      <td>8</td>\n",
       "      <td>otc alterations permit</td>\n",
       "      <td>3785</td>\n",
       "      <td>002A</td>\n",
       "      <td>410</td>\n",
       "      <td>NaN</td>\n",
       "      <td>Townsend</td>\n",
       "      <td>St</td>\n",
       "      <td>...</td>\n",
       "      <td>2016-06-03</td>\n",
       "      <td>2016-02-05</td>\n",
       "      <td>2016-03-25</td>\n",
       "      <td>2016-06-03</td>\n",
       "      <td>2016-03-25</td>\n",
       "      <td>2017-03-20</td>\n",
       "      <td>119</td>\n",
       "      <td>2016</td>\n",
       "      <td>2016-02</td>\n",
       "      <td>NaN</td>\n",
       "    </tr>\n",
       "    <tr>\n",
       "      <th>3</th>\n",
       "      <td>178091</td>\n",
       "      <td>201707172069</td>\n",
       "      <td>8</td>\n",
       "      <td>otc alterations permit</td>\n",
       "      <td>0351</td>\n",
       "      <td>001</td>\n",
       "      <td>1100</td>\n",
       "      <td>NaN</td>\n",
       "      <td>Market</td>\n",
       "      <td>St</td>\n",
       "      <td>...</td>\n",
       "      <td>2017-10-24</td>\n",
       "      <td>2017-07-17</td>\n",
       "      <td>2017-07-17</td>\n",
       "      <td>2017-10-24</td>\n",
       "      <td>2017-07-17</td>\n",
       "      <td>NaT</td>\n",
       "      <td>99</td>\n",
       "      <td>2017</td>\n",
       "      <td>2017-07</td>\n",
       "      <td>NaN</td>\n",
       "    </tr>\n",
       "    <tr>\n",
       "      <th>4</th>\n",
       "      <td>99980</td>\n",
       "      <td>201509247928</td>\n",
       "      <td>8</td>\n",
       "      <td>otc alterations permit</td>\n",
       "      <td>2654</td>\n",
       "      <td>029</td>\n",
       "      <td>43</td>\n",
       "      <td>NaN</td>\n",
       "      <td>Uranus</td>\n",
       "      <td>Tr</td>\n",
       "      <td>...</td>\n",
       "      <td>2016-04-27</td>\n",
       "      <td>2015-09-24</td>\n",
       "      <td>2015-09-24</td>\n",
       "      <td>2016-04-27</td>\n",
       "      <td>2015-09-24</td>\n",
       "      <td>NaT</td>\n",
       "      <td>216</td>\n",
       "      <td>2015</td>\n",
       "      <td>2015-09</td>\n",
       "      <td>NaN</td>\n",
       "    </tr>\n",
       "  </tbody>\n",
       "</table>\n",
       "<p>5 rows × 48 columns</p>\n",
       "</div>"
      ],
      "text/plain": [
       "    index Permit Number  Permit Type  Permit Type Definition Block   Lot  \\\n",
       "0  135040  201608296261            8  otc alterations permit  1047   033   \n",
       "1   25168  201309187110            8  otc alterations permit  3722   073   \n",
       "2  113536  201602058930            8  otc alterations permit  3785  002A   \n",
       "3  178091  201707172069            8  otc alterations permit  0351   001   \n",
       "4   99980  201509247928            8  otc alterations permit  2654   029   \n",
       "\n",
       "   Street Number Street Number Suffix     Street Name Street Suffix  ...  \\\n",
       "0           2951                  NaN            Pine            St  ...   \n",
       "1            101                  NaN  New Montgomery            St  ...   \n",
       "2            410                  NaN        Townsend            St  ...   \n",
       "3           1100                  NaN          Market            St  ...   \n",
       "4             43                  NaN          Uranus            Tr  ...   \n",
       "\n",
       "   Current Status Date Filed Date Issued Date Completed Date  \\\n",
       "0           2016-12-23 2016-08-29  2016-08-29     2016-12-23   \n",
       "1           2013-10-15 2013-09-18  2013-09-18     2013-10-15   \n",
       "2           2016-06-03 2016-02-05  2016-03-25     2016-06-03   \n",
       "3           2017-10-24 2017-07-17  2017-07-17     2017-10-24   \n",
       "4           2016-04-27 2015-09-24  2015-09-24     2016-04-27   \n",
       "\n",
       "  First Construction Document Date  Permit Expiration Date  ddate  year  \\\n",
       "0                       2016-08-29                     NaT    116  2016   \n",
       "1                       2013-09-18              2014-09-13     27  2013   \n",
       "2                       2016-03-25              2017-03-20    119  2016   \n",
       "3                       2017-07-17                     NaT     99  2017   \n",
       "4                       2015-09-24                     NaT    216  2015   \n",
       "\n",
       "        ym  logrc  \n",
       "0  2016-08    NaN  \n",
       "1  2013-09    NaN  \n",
       "2  2016-02    NaN  \n",
       "3  2017-07    NaN  \n",
       "4  2015-09    NaN  \n",
       "\n",
       "[5 rows x 48 columns]"
      ]
     },
     "execution_count": 65,
     "metadata": {},
     "output_type": "execute_result"
    }
   ],
   "source": [
    "data2.reset_index(inplace=True)\n",
    "data2.head()"
   ]
  },
  {
   "cell_type": "markdown",
   "metadata": {},
   "source": [
    "## 数值变量可视化——箱线图"
   ]
  },
  {
   "cell_type": "markdown",
   "metadata": {},
   "source": [
    "Estimated Cost\n",
    "|Revised Cost\n"
   ]
  },
  {
   "cell_type": "markdown",
   "metadata": {},
   "source": [
    "### 画变量Estimated Cost和Revised Cost的箱线图"
   ]
  },
  {
   "cell_type": "code",
   "execution_count": 66,
   "metadata": {},
   "outputs": [
    {
     "data": {
      "text/plain": [
       "<matplotlib.axes._subplots.AxesSubplot at 0x227d5f77518>"
      ]
     },
     "execution_count": 66,
     "metadata": {},
     "output_type": "execute_result"
    },
    {
     "data": {
      "image/png": "[encoded data removed]",
      "text/plain": [
       "<Figure size 1080x432 with 2 Axes>"
      ]
     },
     "metadata": {
      "needs_background": "light"
     },
     "output_type": "display_data"
    }
   ],
   "source": [
    "fig,axes=plt.subplots(1,2,figsize=(15,6))\n",
    "data2['Estimated Cost'].plot.box(ax=axes[0])\n",
    "data2['Revised Cost'].plot.box(ax=axes[1])"
   ]
  },
  {
   "cell_type": "markdown",
   "metadata": {},
   "source": [
    "### 对Revised Cost变量进行离散化处理(用qcut分为10组)，生成离散变量costtype，其label为0-10"
   ]
  },
  {
   "cell_type": "code",
   "execution_count": 67,
   "metadata": {},
   "outputs": [
    {
     "name": "stderr",
     "output_type": "stream",
     "text": [
      "D:\\ProgramData\\Anaconda3\\lib\\site-packages\\ipykernel_launcher.py:1: SettingWithCopyWarning: \n",
      "A value is trying to be set on a copy of a slice from a DataFrame.\n",
      "Try using .loc[row_indexer,col_indexer] = value instead\n",
      "\n",
      "See the caveats in the documentation: http://pandas.pydata.org/pandas-docs/stable/indexing.html#indexing-view-versus-copy\n",
      "  \"\"\"Entry point for launching an IPython kernel.\n"
     ]
    }
   ],
   "source": [
    "data2['costtype']=pd.qcut(data2['Revised Cost'],10,labels=np.arange(0,10,1))"
   ]
  },
  {
   "cell_type": "markdown",
   "metadata": {},
   "source": [
    "### 对Revised Cost变量进行离散化处理(用qcut分为10组)，生成离散变量costtype1，其labels保持默认设置"
   ]
  },
  {
   "cell_type": "code",
   "execution_count": 68,
   "metadata": {},
   "outputs": [
    {
     "name": "stderr",
     "output_type": "stream",
     "text": [
      "D:\\ProgramData\\Anaconda3\\lib\\site-packages\\ipykernel_launcher.py:1: SettingWithCopyWarning: \n",
      "A value is trying to be set on a copy of a slice from a DataFrame.\n",
      "Try using .loc[row_indexer,col_indexer] = value instead\n",
      "\n",
      "See the caveats in the documentation: http://pandas.pydata.org/pandas-docs/stable/indexing.html#indexing-view-versus-copy\n",
      "  \"\"\"Entry point for launching an IPython kernel.\n"
     ]
    }
   ],
   "source": [
    "data2['costtype1']=pd.qcut(data2['Revised Cost'],10)"
   ]
  },
  {
   "cell_type": "markdown",
   "metadata": {},
   "source": [
    "### 对costtype1进行值（value_counts）统计，并按照索引进行升序排列"
   ]
  },
  {
   "cell_type": "code",
   "execution_count": 69,
   "metadata": {},
   "outputs": [
    {
     "data": {
      "text/plain": [
       "(-0.001, 1.0]               9934\n",
       "(1.0, 2500.0]              10327\n",
       "(2500.0, 5000.0]           10572\n",
       "(5000.0, 8000.0]            8151\n",
       "(8000.0, 12000.0]          10077\n",
       "(12000.0, 18400.0]          9190\n",
       "(18400.0, 28128.0]          9701\n",
       "(28128.0, 50000.0]         11046\n",
       "(50000.0, 105434.0]         8369\n",
       "(105434.0, 131088316.0]     9708\n",
       "Name: costtype1, dtype: int64"
      ]
     },
     "execution_count": 69,
     "metadata": {},
     "output_type": "execute_result"
    }
   ],
   "source": [
    "data2.costtype1.value_counts().sort_index()"
   ]
  },
  {
   "cell_type": "markdown",
   "metadata": {},
   "source": [
    "### 用costype取值为1-7的Revised Cost画分组箱线图"
   ]
  },
  {
   "cell_type": "code",
   "execution_count": 70,
   "metadata": {},
   "outputs": [
    {
     "data": {
      "text/plain": [
       "<matplotlib.axes._subplots.AxesSubplot at 0x227d7da5d68>"
      ]
     },
     "execution_count": 70,
     "metadata": {},
     "output_type": "execute_result"
    },
    {
     "data": {
      "image/png": "[encoded data removed]",
      "text/plain": [
       "<Figure size 432x288 with 1 Axes>"
      ]
     },
     "metadata": {
      "needs_background": "light"
     },
     "output_type": "display_data"
    }
   ],
   "source": [
    "data2[(data2.costtype>=1)&(data2.costtype<=7)].boxplot(column='Revised Cost',by='costtype')"
   ]
  },
  {
   "cell_type": "markdown",
   "metadata": {},
   "source": [
    "### 对用costype取值为8的Revised Cost画箱线图"
   ]
  },
  {
   "cell_type": "code",
   "execution_count": 71,
   "metadata": {},
   "outputs": [
    {
     "data": {
      "text/plain": [
       "<matplotlib.axes._subplots.AxesSubplot at 0x227d6f3ec18>"
      ]
     },
     "execution_count": 71,
     "metadata": {},
     "output_type": "execute_result"
    },
    {
     "data": {
      "image/png": "[encoded data removed]",
      "text/plain": [
       "<Figure size 432x288 with 1 Axes>"
      ]
     },
     "metadata": {
      "needs_background": "light"
     },
     "output_type": "display_data"
    }
   ],
   "source": [
    "data2[data2.costtype==8].boxplot(column='Revised Cost',by='costtype')"
   ]
  },
  {
   "cell_type": "markdown",
   "metadata": {},
   "source": [
    "### 对用costype取值为9的Revised Cost画箱线图"
   ]
  },
  {
   "cell_type": "code",
   "execution_count": 72,
   "metadata": {},
   "outputs": [
    {
     "data": {
      "text/plain": [
       "<matplotlib.axes._subplots.AxesSubplot at 0x227d730e2b0>"
      ]
     },
     "execution_count": 72,
     "metadata": {},
     "output_type": "execute_result"
    },
    {
     "data": {
      "image/png": "[encoded data removed]",
      "text/plain": [
       "<Figure size 432x288 with 1 Axes>"
      ]
     },
     "metadata": {
      "needs_background": "light"
     },
     "output_type": "display_data"
    }
   ],
   "source": [
    "data2[data2.costtype==9].boxplot(column='Revised Cost',by='costtype')"
   ]
  },
  {
   "cell_type": "markdown",
   "metadata": {},
   "source": [
    "### 对用logrc画箱线图"
   ]
  },
  {
   "cell_type": "code",
   "execution_count": 73,
   "metadata": {},
   "outputs": [
    {
     "data": {
      "text/plain": [
       "<matplotlib.axes._subplots.AxesSubplot at 0x227d723f940>"
      ]
     },
     "execution_count": 73,
     "metadata": {},
     "output_type": "execute_result"
    },
    {
     "data": {
      "image/png": "[encoded data removed]",
      "text/plain": [
       "<Figure size 432x288 with 1 Axes>"
      ]
     },
     "metadata": {
      "needs_background": "light"
     },
     "output_type": "display_data"
    }
   ],
   "source": [
    "data2.logrc.plot.box()"
   ]
  },
  {
   "cell_type": "markdown",
   "metadata": {},
   "source": [
    "## 数值变量的可视化——直方图"
   ]
  },
  {
   "cell_type": "markdown",
   "metadata": {},
   "source": [
    "### 画变量Revised Cost的直方图"
   ]
  },
  {
   "cell_type": "markdown",
   "metadata": {},
   "source": [
    "可以看到由于数据比较异常，直方图的效果并不好。，我们可以对其进行对数化处理，然后再看直方图，或者分组看直方图。\n",
    "\n"
   ]
  },
  {
   "cell_type": "code",
   "execution_count": 74,
   "metadata": {},
   "outputs": [
    {
     "data": {
      "text/plain": [
       "<matplotlib.axes._subplots.AxesSubplot at 0x227d733ce48>"
      ]
     },
     "execution_count": 74,
     "metadata": {},
     "output_type": "execute_result"
    },
    {
     "data": {
      "image/png": "[encoded data removed]",
      "text/plain": [
       "<Figure size 432x288 with 1 Axes>"
      ]
     },
     "metadata": {
      "needs_background": "light"
     },
     "output_type": "display_data"
    }
   ],
   "source": [
    "data2['Revised Cost'].plot.hist()"
   ]
  },
  {
   "cell_type": "markdown",
   "metadata": {},
   "source": [
    "### 分组画Revised Cost变量的直方图，根据costtype进行分组"
   ]
  },
  {
   "cell_type": "code",
   "execution_count": 75,
   "metadata": {},
   "outputs": [
    {
     "name": "stderr",
     "output_type": "stream",
     "text": [
      "No handles with labels found to put in legend.\n"
     ]
    },
    {
     "data": {
      "text/plain": [
       "<matplotlib.legend.Legend at 0x227e3c8c668>"
      ]
     },
     "execution_count": 75,
     "metadata": {},
     "output_type": "execute_result"
    },
    {
     "data": {
      "image/png": "[encoded data removed]",
      "text/plain": [
       "<Figure size 432x288 with 12 Axes>"
      ]
     },
     "metadata": {
      "needs_background": "light"
     },
     "output_type": "display_data"
    }
   ],
   "source": [
    "#加上分号可以不显示一些细节的东西，只显示图形。\n",
    "axes=data2.hist(column=['Revised Cost'],by='costtype')\n",
    "axes[0,0].legend()"
   ]
  },
  {
   "cell_type": "markdown",
   "metadata": {},
   "source": [
    "### 画logrc变量的直方图"
   ]
  },
  {
   "cell_type": "code",
   "execution_count": 76,
   "metadata": {},
   "outputs": [
    {
     "data": {
      "text/plain": [
       "<matplotlib.axes._subplots.AxesSubplot at 0x227d7c222e8>"
      ]
     },
     "execution_count": 76,
     "metadata": {},
     "output_type": "execute_result"
    },
    {
     "data": {
      "image/png": "[encoded data removed]",
      "text/plain": [
       "<Figure size 432x288 with 1 Axes>"
      ]
     },
     "metadata": {
      "needs_background": "light"
     },
     "output_type": "display_data"
    }
   ],
   "source": [
    "data2.logrc.plot.hist()"
   ]
  },
  {
   "cell_type": "markdown",
   "metadata": {},
   "source": [
    "## 数值变量的可视化——散点图"
   ]
  },
  {
   "cell_type": "markdown",
   "metadata": {},
   "source": [
    "### 画Estimated Cost和Revised Cost的散点图"
   ]
  },
  {
   "cell_type": "code",
   "execution_count": 77,
   "metadata": {},
   "outputs": [
    {
     "data": {
      "text/plain": [
       "<matplotlib.collections.PathCollection at 0x227e450e9b0>"
      ]
     },
     "execution_count": 77,
     "metadata": {},
     "output_type": "execute_result"
    },
    {
     "data": {
      "image/png": "[encoded data removed]",
      "text/plain": [
       "<Figure size 432x432 with 1 Axes>"
      ]
     },
     "metadata": {
      "needs_background": "light"
     },
     "output_type": "display_data"
    }
   ],
   "source": [
    "fig,ax=plt.subplots(1,1,figsize=(6,6))\n",
    "ax.scatter(x=data2['Estimated Cost'],y=data2['Revised Cost'],color='y')"
   ]
  },
  {
   "cell_type": "markdown",
   "metadata": {},
   "source": [
    "## 根据经纬度数据画图"
   ]
  },
  {
   "cell_type": "markdown",
   "metadata": {},
   "source": [
    "### 统计经纬度变量Location有多少个缺失值"
   ]
  },
  {
   "cell_type": "code",
   "execution_count": 78,
   "metadata": {},
   "outputs": [],
   "source": [
    "#经纬度变量是Location变量\n",
    "#longitude：经度\n",
    "#latitude:纬度"
   ]
  },
  {
   "cell_type": "code",
   "execution_count": 79,
   "metadata": {},
   "outputs": [
    {
     "data": {
      "text/plain": [
       "False    96342\n",
       "True       735\n",
       "Name: Location, dtype: int64"
      ]
     },
     "execution_count": 79,
     "metadata": {},
     "output_type": "execute_result"
    }
   ],
   "source": [
    "data2.Location.isna().value_counts()"
   ]
  },
  {
   "cell_type": "code",
   "execution_count": 80,
   "metadata": {},
   "outputs": [
    {
     "data": {
      "text/plain": [
       "True    735\n",
       "Name: Location, dtype: int64"
      ]
     },
     "execution_count": 80,
     "metadata": {},
     "output_type": "execute_result"
    }
   ],
   "source": [
    "data2.Location.isna().value_counts()[1:2]"
   ]
  },
  {
   "cell_type": "markdown",
   "metadata": {},
   "source": [
    "### 把经度变量存为longitude(Location里面的第二个值),把维度变量存为latitude(Location里面的第1个值)."
   ]
  },
  {
   "cell_type": "code",
   "execution_count": 81,
   "metadata": {},
   "outputs": [],
   "source": [
    "#把经纬度数据分开"
   ]
  },
  {
   "cell_type": "code",
   "execution_count": 82,
   "metadata": {},
   "outputs": [],
   "source": [
    "def f1(x,i):\n",
    "    if pd.isna(x):\n",
    "        return np.nan\n",
    "    else:\n",
    "        y=eval(x)\n",
    "        return y[i]"
   ]
  },
  {
   "cell_type": "code",
   "execution_count": 83,
   "metadata": {},
   "outputs": [
    {
     "name": "stderr",
     "output_type": "stream",
     "text": [
      "D:\\ProgramData\\Anaconda3\\lib\\site-packages\\ipykernel_launcher.py:1: SettingWithCopyWarning: \n",
      "A value is trying to be set on a copy of a slice from a DataFrame.\n",
      "Try using .loc[row_indexer,col_indexer] = value instead\n",
      "\n",
      "See the caveats in the documentation: http://pandas.pydata.org/pandas-docs/stable/indexing.html#indexing-view-versus-copy\n",
      "  \"\"\"Entry point for launching an IPython kernel.\n",
      "D:\\ProgramData\\Anaconda3\\lib\\site-packages\\ipykernel_launcher.py:2: SettingWithCopyWarning: \n",
      "A value is trying to be set on a copy of a slice from a DataFrame.\n",
      "Try using .loc[row_indexer,col_indexer] = value instead\n",
      "\n",
      "See the caveats in the documentation: http://pandas.pydata.org/pandas-docs/stable/indexing.html#indexing-view-versus-copy\n",
      "  \n"
     ]
    }
   ],
   "source": [
    "data2[\"latitude\"]=data2[\"Location\"].map(lambda x:f1(x,0))\n",
    "data2[\"longitude\"]=data2[\"Location\"].map(lambda x:f1(x,1))"
   ]
  },
  {
   "cell_type": "markdown",
   "metadata": {},
   "source": [
    "### 求变量longitude和latitude的最小值和最大值"
   ]
  },
  {
   "cell_type": "code",
   "execution_count": 84,
   "metadata": {},
   "outputs": [
    {
     "data": {
      "text/plain": [
       "longitude   -122.365853\n",
       "latitude      37.825017\n",
       "dtype: float64"
      ]
     },
     "execution_count": 84,
     "metadata": {},
     "output_type": "execute_result"
    }
   ],
   "source": [
    "data2[['longitude','latitude']].max()"
   ]
  },
  {
   "cell_type": "code",
   "execution_count": 85,
   "metadata": {},
   "outputs": [
    {
     "data": {
      "text/plain": [
       "longitude   -122.510938\n",
       "latitude      37.708170\n",
       "dtype: float64"
      ]
     },
     "execution_count": 85,
     "metadata": {},
     "output_type": "execute_result"
    }
   ],
   "source": [
    "data2[['longitude','latitude']].min()"
   ]
  },
  {
   "cell_type": "code",
   "execution_count": 86,
   "metadata": {},
   "outputs": [
    {
     "data": {
      "text/html": [
       "<div>\n",
       "<style scoped>\n",
       "    .dataframe tbody tr th:only-of-type {\n",
       "        vertical-align: middle;\n",
       "    }\n",
       "\n",
       "    .dataframe tbody tr th {\n",
       "        vertical-align: top;\n",
       "    }\n",
       "\n",
       "    .dataframe thead th {\n",
       "        text-align: right;\n",
       "    }\n",
       "</style>\n",
       "<table border=\"1\" class=\"dataframe\">\n",
       "  <thead>\n",
       "    <tr style=\"text-align: right;\">\n",
       "      <th></th>\n",
       "      <th>longitude</th>\n",
       "      <th>latitude</th>\n",
       "    </tr>\n",
       "  </thead>\n",
       "  <tbody>\n",
       "    <tr>\n",
       "      <th>count</th>\n",
       "      <td>96342.000000</td>\n",
       "      <td>96342.000000</td>\n",
       "    </tr>\n",
       "    <tr>\n",
       "      <th>mean</th>\n",
       "      <td>-122.432073</td>\n",
       "      <td>37.768223</td>\n",
       "    </tr>\n",
       "    <tr>\n",
       "      <th>std</th>\n",
       "      <td>0.029466</td>\n",
       "      <td>0.023979</td>\n",
       "    </tr>\n",
       "    <tr>\n",
       "      <th>min</th>\n",
       "      <td>-122.510938</td>\n",
       "      <td>37.708170</td>\n",
       "    </tr>\n",
       "    <tr>\n",
       "      <th>25%</th>\n",
       "      <td>-122.449023</td>\n",
       "      <td>37.750988</td>\n",
       "    </tr>\n",
       "    <tr>\n",
       "      <th>50%</th>\n",
       "      <td>-122.427664</td>\n",
       "      <td>37.773167</td>\n",
       "    </tr>\n",
       "    <tr>\n",
       "      <th>75%</th>\n",
       "      <td>-122.408044</td>\n",
       "      <td>37.788844</td>\n",
       "    </tr>\n",
       "    <tr>\n",
       "      <th>max</th>\n",
       "      <td>-122.365853</td>\n",
       "      <td>37.825017</td>\n",
       "    </tr>\n",
       "  </tbody>\n",
       "</table>\n",
       "</div>"
      ],
      "text/plain": [
       "          longitude      latitude\n",
       "count  96342.000000  96342.000000\n",
       "mean    -122.432073     37.768223\n",
       "std        0.029466      0.023979\n",
       "min     -122.510938     37.708170\n",
       "25%     -122.449023     37.750988\n",
       "50%     -122.427664     37.773167\n",
       "75%     -122.408044     37.788844\n",
       "max     -122.365853     37.825017"
      ]
     },
     "execution_count": 86,
     "metadata": {},
     "output_type": "execute_result"
    }
   ],
   "source": [
    "data2[['longitude','latitude']].describe()\n"
   ]
  },
  {
   "cell_type": "code",
   "execution_count": null,
   "metadata": {},
   "outputs": [],
   "source": [
    "#可以看到经度取值范围在"
   ]
  },
  {
   "cell_type": "code",
   "execution_count": null,
   "metadata": {},
   "outputs": [],
   "source": [
    "#接下来开始画图"
   ]
  },
  {
   "cell_type": "markdown",
   "metadata": {},
   "source": [
    "drawcoastlines',\n",
    " 'drawcounties',\n",
    " 'drawcountries',\n",
    " 'drawgreatcircle',\n",
    " 'drawlsmask',\n",
    " 'drawmapboundary',\n",
    " 'drawmapscale',\n",
    " 'drawmeridians',\n",
    " 'drawparallels',\n",
    " 'drawrivers',\n",
    " 'drawstates',"
   ]
  },
  {
   "cell_type": "markdown",
   "metadata": {},
   "source": [
    "### 画一个散点图，横轴为longtide,纵轴为latitude,colormap设定为“Reds”,用变量Revised Cost设定颜色，并在图上加入colorbar"
   ]
  },
  {
   "cell_type": "code",
   "execution_count": 87,
   "metadata": {},
   "outputs": [
    {
     "data": {
      "text/plain": [
       "<matplotlib.colorbar.Colorbar at 0x227e2836128>"
      ]
     },
     "execution_count": 87,
     "metadata": {},
     "output_type": "execute_result"
    },
    {
     "data": {
      "image/png": "[encoded data removed]",
      "text/plain": [
       "<Figure size 432x288 with 2 Axes>"
      ]
     },
     "metadata": {
      "needs_background": "light"
     },
     "output_type": "display_data"
    }
   ],
   "source": [
    "fig,ax=plt.subplots(1,1)\n",
    "temp=ax.scatter(data2['longitude'],data2['latitude'],c=data2['Revised Cost'],cmap='summer')\n",
    "fig.colorbar(temp,ax=ax)"
   ]
  },
  {
   "cell_type": "code",
   "execution_count": 88,
   "metadata": {},
   "outputs": [
    {
     "data": {
      "text/plain": [
       "<matplotlib.axes._subplots.AxesSubplot at 0x227e283c5f8>"
      ]
     },
     "execution_count": 88,
     "metadata": {},
     "output_type": "execute_result"
    },
    {
     "data": {
      "image/png": "[encoded data removed]",
      "text/plain": [
       "<Figure size 432x288 with 2 Axes>"
      ]
     },
     "metadata": {
      "needs_background": "light"
     },
     "output_type": "display_data"
    }
   ],
   "source": [
    "fig,ax=plt.subplots(1,1)\n",
    "data2.plot.scatter(x='longitude',y='latitude',c=data2['Revised Cost'],cmap='summer',colorbar=True,ax=ax)"
   ]
  },
  {
   "cell_type": "markdown",
   "metadata": {},
   "source": [
    "## 地址变量的处理"
   ]
  },
  {
   "cell_type": "code",
   "execution_count": 89,
   "metadata": {},
   "outputs": [
    {
     "data": {
      "text/html": [
       "<div>\n",
       "<style scoped>\n",
       "    .dataframe tbody tr th:only-of-type {\n",
       "        vertical-align: middle;\n",
       "    }\n",
       "\n",
       "    .dataframe tbody tr th {\n",
       "        vertical-align: top;\n",
       "    }\n",
       "\n",
       "    .dataframe thead th {\n",
       "        text-align: right;\n",
       "    }\n",
       "</style>\n",
       "<table border=\"1\" class=\"dataframe\">\n",
       "  <thead>\n",
       "    <tr style=\"text-align: right;\">\n",
       "      <th></th>\n",
       "      <th>index</th>\n",
       "      <th>Permit Number</th>\n",
       "      <th>Permit Type</th>\n",
       "      <th>Permit Type Definition</th>\n",
       "      <th>Block</th>\n",
       "      <th>Lot</th>\n",
       "      <th>Street Number</th>\n",
       "      <th>Street Number Suffix</th>\n",
       "      <th>Street Name</th>\n",
       "      <th>Street Suffix</th>\n",
       "      <th>...</th>\n",
       "      <th>First Construction Document Date</th>\n",
       "      <th>Permit Expiration Date</th>\n",
       "      <th>ddate</th>\n",
       "      <th>year</th>\n",
       "      <th>ym</th>\n",
       "      <th>logrc</th>\n",
       "      <th>costtype</th>\n",
       "      <th>costtype1</th>\n",
       "      <th>latitude</th>\n",
       "      <th>longitude</th>\n",
       "    </tr>\n",
       "  </thead>\n",
       "  <tbody>\n",
       "    <tr>\n",
       "      <th>0</th>\n",
       "      <td>135040</td>\n",
       "      <td>201608296261</td>\n",
       "      <td>8</td>\n",
       "      <td>otc alterations permit</td>\n",
       "      <td>1047</td>\n",
       "      <td>033</td>\n",
       "      <td>2951</td>\n",
       "      <td>NaN</td>\n",
       "      <td>Pine</td>\n",
       "      <td>St</td>\n",
       "      <td>...</td>\n",
       "      <td>2016-08-29</td>\n",
       "      <td>NaT</td>\n",
       "      <td>116</td>\n",
       "      <td>2016</td>\n",
       "      <td>2016-08</td>\n",
       "      <td>NaN</td>\n",
       "      <td>0</td>\n",
       "      <td>(-0.001, 1.0]</td>\n",
       "      <td>37.786306</td>\n",
       "      <td>-122.444325</td>\n",
       "    </tr>\n",
       "    <tr>\n",
       "      <th>1</th>\n",
       "      <td>25168</td>\n",
       "      <td>201309187110</td>\n",
       "      <td>8</td>\n",
       "      <td>otc alterations permit</td>\n",
       "      <td>3722</td>\n",
       "      <td>073</td>\n",
       "      <td>101</td>\n",
       "      <td>NaN</td>\n",
       "      <td>New Montgomery</td>\n",
       "      <td>St</td>\n",
       "      <td>...</td>\n",
       "      <td>2013-09-18</td>\n",
       "      <td>2014-09-13</td>\n",
       "      <td>27</td>\n",
       "      <td>2013</td>\n",
       "      <td>2013-09</td>\n",
       "      <td>NaN</td>\n",
       "      <td>0</td>\n",
       "      <td>(-0.001, 1.0]</td>\n",
       "      <td>37.787422</td>\n",
       "      <td>-122.400007</td>\n",
       "    </tr>\n",
       "    <tr>\n",
       "      <th>2</th>\n",
       "      <td>113536</td>\n",
       "      <td>201602058930</td>\n",
       "      <td>8</td>\n",
       "      <td>otc alterations permit</td>\n",
       "      <td>3785</td>\n",
       "      <td>002A</td>\n",
       "      <td>410</td>\n",
       "      <td>NaN</td>\n",
       "      <td>Townsend</td>\n",
       "      <td>St</td>\n",
       "      <td>...</td>\n",
       "      <td>2016-03-25</td>\n",
       "      <td>2017-03-20</td>\n",
       "      <td>119</td>\n",
       "      <td>2016</td>\n",
       "      <td>2016-02</td>\n",
       "      <td>NaN</td>\n",
       "      <td>0</td>\n",
       "      <td>(-0.001, 1.0]</td>\n",
       "      <td>37.775300</td>\n",
       "      <td>-122.398058</td>\n",
       "    </tr>\n",
       "    <tr>\n",
       "      <th>3</th>\n",
       "      <td>178091</td>\n",
       "      <td>201707172069</td>\n",
       "      <td>8</td>\n",
       "      <td>otc alterations permit</td>\n",
       "      <td>0351</td>\n",
       "      <td>001</td>\n",
       "      <td>1100</td>\n",
       "      <td>NaN</td>\n",
       "      <td>Market</td>\n",
       "      <td>St</td>\n",
       "      <td>...</td>\n",
       "      <td>2017-07-17</td>\n",
       "      <td>NaT</td>\n",
       "      <td>99</td>\n",
       "      <td>2017</td>\n",
       "      <td>2017-07</td>\n",
       "      <td>NaN</td>\n",
       "      <td>0</td>\n",
       "      <td>(-0.001, 1.0]</td>\n",
       "      <td>37.780876</td>\n",
       "      <td>-122.412456</td>\n",
       "    </tr>\n",
       "    <tr>\n",
       "      <th>4</th>\n",
       "      <td>99980</td>\n",
       "      <td>201509247928</td>\n",
       "      <td>8</td>\n",
       "      <td>otc alterations permit</td>\n",
       "      <td>2654</td>\n",
       "      <td>029</td>\n",
       "      <td>43</td>\n",
       "      <td>NaN</td>\n",
       "      <td>Uranus</td>\n",
       "      <td>Tr</td>\n",
       "      <td>...</td>\n",
       "      <td>2015-09-24</td>\n",
       "      <td>NaT</td>\n",
       "      <td>216</td>\n",
       "      <td>2015</td>\n",
       "      <td>2015-09</td>\n",
       "      <td>NaN</td>\n",
       "      <td>0</td>\n",
       "      <td>(-0.001, 1.0]</td>\n",
       "      <td>37.761275</td>\n",
       "      <td>-122.445273</td>\n",
       "    </tr>\n",
       "  </tbody>\n",
       "</table>\n",
       "<p>5 rows × 52 columns</p>\n",
       "</div>"
      ],
      "text/plain": [
       "    index Permit Number  Permit Type  Permit Type Definition Block   Lot  \\\n",
       "0  135040  201608296261            8  otc alterations permit  1047   033   \n",
       "1   25168  201309187110            8  otc alterations permit  3722   073   \n",
       "2  113536  201602058930            8  otc alterations permit  3785  002A   \n",
       "3  178091  201707172069            8  otc alterations permit  0351   001   \n",
       "4   99980  201509247928            8  otc alterations permit  2654   029   \n",
       "\n",
       "   Street Number Street Number Suffix     Street Name Street Suffix  ...  \\\n",
       "0           2951                  NaN            Pine            St  ...   \n",
       "1            101                  NaN  New Montgomery            St  ...   \n",
       "2            410                  NaN        Townsend            St  ...   \n",
       "3           1100                  NaN          Market            St  ...   \n",
       "4             43                  NaN          Uranus            Tr  ...   \n",
       "\n",
       "   First Construction Document Date Permit Expiration Date ddate  year  \\\n",
       "0                        2016-08-29                    NaT   116  2016   \n",
       "1                        2013-09-18             2014-09-13    27  2013   \n",
       "2                        2016-03-25             2017-03-20   119  2016   \n",
       "3                        2017-07-17                    NaT    99  2017   \n",
       "4                        2015-09-24                    NaT   216  2015   \n",
       "\n",
       "        ym  logrc  costtype      costtype1   latitude   longitude  \n",
       "0  2016-08    NaN         0  (-0.001, 1.0]  37.786306 -122.444325  \n",
       "1  2013-09    NaN         0  (-0.001, 1.0]  37.787422 -122.400007  \n",
       "2  2016-02    NaN         0  (-0.001, 1.0]  37.775300 -122.398058  \n",
       "3  2017-07    NaN         0  (-0.001, 1.0]  37.780876 -122.412456  \n",
       "4  2015-09    NaN         0  (-0.001, 1.0]  37.761275 -122.445273  \n",
       "\n",
       "[5 rows x 52 columns]"
      ]
     },
     "execution_count": 89,
     "metadata": {},
     "output_type": "execute_result"
    }
   ],
   "source": [
    "data2.head()"
   ]
  },
  {
   "cell_type": "markdown",
   "metadata": {},
   "source": [
    "关于地址的字段有\n",
    "Block：栋、\n",
    "Lot：地段、\n",
    "Street Number：街牌号码、\n",
    "Street Number Suffix：街道号码后缀、\n",
    "Street Name：街道名称、\n",
    "Street Name Suffix：街道名称后缀、\n",
    "Unit：单元、\n",
    "Unit suffix：单元后缀。\n",
    "首先看一下这些变量的缺失值情况\n",
    "\n"
   ]
  },
  {
   "cell_type": "code",
   "execution_count": 90,
   "metadata": {},
   "outputs": [],
   "source": [
    "addresslist=[\"Block\",\"Lot\",\n",
    "             \"Street Number\",\"Street Number Suffix\",\n",
    "            \"Street Name\",\"Street Suffix\",\n",
    "            \"Unit\",\"Unit Suffix\"]"
   ]
  },
  {
   "cell_type": "markdown",
   "metadata": {},
   "source": [
    "### 统计各个地址变量的缺失值比例"
   ]
  },
  {
   "cell_type": "code",
   "execution_count": null,
   "metadata": {},
   "outputs": [],
   "source": [
    "#可以看到两个后缀变量的缺失值都比较大，我们可以把这两个变量删掉。"
   ]
  },
  {
   "cell_type": "code",
   "execution_count": 91,
   "metadata": {},
   "outputs": [
    {
     "data": {
      "text/plain": [
       "Block                   0.000000\n",
       "Lot                     0.000000\n",
       "Street Number           0.000000\n",
       "Street Number Suffix    0.989586\n",
       "Street Name             0.000000\n",
       "Street Suffix           0.014277\n",
       "Unit                    0.847863\n",
       "Unit Suffix             0.989400\n",
       "dtype: float64"
      ]
     },
     "execution_count": 91,
     "metadata": {},
     "output_type": "execute_result"
    }
   ],
   "source": [
    "data2[addresslist].isnull().mean()"
   ]
  },
  {
   "cell_type": "markdown",
   "metadata": {},
   "source": [
    "### 一些地址变量的删除\n",
    "删除变量Street Number Suffix\",\"Unit\",\"Unit Suffix，将需要删除的变量名字，存为一个列表为addressdroplist"
   ]
  },
  {
   "cell_type": "code",
   "execution_count": 92,
   "metadata": {},
   "outputs": [],
   "source": [
    "addressdroplist=['Street Number Suffix','Unit','Unit Suffix']"
   ]
  },
  {
   "cell_type": "code",
   "execution_count": 93,
   "metadata": {},
   "outputs": [
    {
     "name": "stderr",
     "output_type": "stream",
     "text": [
      "D:\\ProgramData\\Anaconda3\\lib\\site-packages\\pandas\\core\\frame.py:3940: SettingWithCopyWarning: \n",
      "A value is trying to be set on a copy of a slice from a DataFrame\n",
      "\n",
      "See the caveats in the documentation: http://pandas.pydata.org/pandas-docs/stable/indexing.html#indexing-view-versus-copy\n",
      "  errors=errors)\n"
     ]
    }
   ],
   "source": [
    "data2.drop(columns=addressdroplist,inplace=True,errors=\"ignore\")"
   ]
  },
  {
   "cell_type": "markdown",
   "metadata": {},
   "source": [
    "### 从addresslist中将addressdroplist里面的变量去掉，并统计addresslist列表里面的变量的缺失值比例"
   ]
  },
  {
   "cell_type": "code",
   "execution_count": 94,
   "metadata": {},
   "outputs": [],
   "source": [
    "addresslist=list(set(addresslist)-set(addressdroplist))"
   ]
  },
  {
   "cell_type": "code",
   "execution_count": 95,
   "metadata": {},
   "outputs": [
    {
     "data": {
      "text/plain": [
       "['Lot', 'Street Name', 'Block', 'Street Number', 'Street Suffix']"
      ]
     },
     "execution_count": 95,
     "metadata": {},
     "output_type": "execute_result"
    }
   ],
   "source": [
    "addresslist"
   ]
  },
  {
   "cell_type": "code",
   "execution_count": 96,
   "metadata": {},
   "outputs": [],
   "source": [
    "for i in addresslist:\n",
    "    if i in addressdroplist:\n",
    "        addresslist.remove(i)"
   ]
  },
  {
   "cell_type": "code",
   "execution_count": 97,
   "metadata": {},
   "outputs": [
    {
     "data": {
      "text/plain": [
       "['Lot', 'Street Name', 'Block', 'Street Number', 'Street Suffix']"
      ]
     },
     "execution_count": 97,
     "metadata": {},
     "output_type": "execute_result"
    }
   ],
   "source": [
    "addresslist"
   ]
  },
  {
   "cell_type": "code",
   "execution_count": 98,
   "metadata": {},
   "outputs": [],
   "source": [
    "#也可以用下面命令\n",
    "for i in addressdroplist:\n",
    "    try:\n",
    "        addresslist.remove(i)\n",
    "    except:\n",
    "        pass"
   ]
  },
  {
   "cell_type": "markdown",
   "metadata": {},
   "source": [
    "### 地址变量的连接"
   ]
  },
  {
   "cell_type": "markdown",
   "metadata": {},
   "source": [
    "根据地址变量Street Number，Street Suffix，Street Name生成新的变量address"
   ]
  },
  {
   "cell_type": "markdown",
   "metadata": {},
   "source": [
    "分两种情况，\n",
    "- 如果Street Suffix不缺失则address=Street Number+Street Suffix+Street Name\n",
    "\n",
    "- 如果Street Suffix缺失则address=Street Number+Street Name"
   ]
  },
  {
   "cell_type": "code",
   "execution_count": 99,
   "metadata": {},
   "outputs": [],
   "source": [
    "def f1(x):\n",
    "    if pd.isna(x[\"Street Suffix\"]):\n",
    "        return str(x[\"Street Number\"]) +str( x[\"Street Name\"])\n",
    "    else:\n",
    "        return   str(x[\"Street Number\"])+ str( x[\"Street Suffix\"])+ str(x[\"Street Name\"])"
   ]
  },
  {
   "cell_type": "code",
   "execution_count": 100,
   "metadata": {},
   "outputs": [
    {
     "name": "stderr",
     "output_type": "stream",
     "text": [
      "D:\\ProgramData\\Anaconda3\\lib\\site-packages\\ipykernel_launcher.py:1: SettingWithCopyWarning: \n",
      "A value is trying to be set on a copy of a slice from a DataFrame.\n",
      "Try using .loc[row_indexer,col_indexer] = value instead\n",
      "\n",
      "See the caveats in the documentation: http://pandas.pydata.org/pandas-docs/stable/indexing.html#indexing-view-versus-copy\n",
      "  \"\"\"Entry point for launching an IPython kernel.\n"
     ]
    }
   ],
   "source": [
    "data2['address']=data2.apply(lambda x : f1(x) , axis=1)"
   ]
  },
  {
   "cell_type": "code",
   "execution_count": 101,
   "metadata": {},
   "outputs": [
    {
     "data": {
      "text/plain": [
       "0             2951StPine\n",
       "1    101StNew Montgomery\n",
       "2          410StTownsend\n",
       "3           1100StMarket\n",
       "4             43TrUranus\n",
       "Name: address, dtype: object"
      ]
     },
     "execution_count": 101,
     "metadata": {},
     "output_type": "execute_result"
    }
   ],
   "source": [
    "data2.address.head()"
   ]
  },
  {
   "cell_type": "code",
   "execution_count": null,
   "metadata": {},
   "outputs": [],
   "source": []
  }
 ],
 "metadata": {
  "kernelspec": {
   "display_name": "Python 3",
   "language": "python",
   "name": "python3"
  },
  "language_info": {
   "codemirror_mode": {
    "name": "ipython",
    "version": 3
   },
   "file_extension": ".py",
   "mimetype": "text/x-python",
   "name": "python",
   "nbconvert_exporter": "python",
   "pygments_lexer": "ipython3",
   "version": "3.7.3"
  },
  "toc": {
   "base_numbering": 1,
   "nav_menu": {},
   "number_sections": true,
   "sideBar": false,
   "skip_h1_title": false,
   "title_cell": "Table of Contents",
   "title_sidebar": "Contents",
   "toc_cell": false,
   "toc_position": {
    "height": "552px",
    "left": "182.73px",
    "top": "110.9px",
    "width": "400.2px"
   },
   "toc_section_display": true,
   "toc_window_display": false
  }
 },
 "nbformat": 4,
 "nbformat_minor": 2
}
